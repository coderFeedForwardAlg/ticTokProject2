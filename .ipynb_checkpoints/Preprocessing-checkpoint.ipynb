{
 "cells": [
  {
   "cell_type": "code",
   "execution_count": null,
   "id": "Tmuvz-uhM_Tv",
   "metadata": {
    "colab": {
     "base_uri": "https://localhost:8080/",
     "height": 74
    },
    "id": "Tmuvz-uhM_Tv",
    "outputId": "662946f9-3366-45fe-8a86-754e3124d593"
   },
   "outputs": [],
   "source": []
  },
  {
   "cell_type": "markdown",
   "id": "xJlOYxkSEFcJ",
   "metadata": {
    "id": "xJlOYxkSEFcJ"
   },
   "source": [
    "**Read Data**"
   ]
  },
  {
   "cell_type": "code",
   "execution_count": 1,
   "id": "0U1Nn1iFOzU2",
   "metadata": {
    "colab": {
     "base_uri": "https://localhost:8080/",
     "height": 427
    },
    "id": "0U1Nn1iFOzU2",
    "outputId": "d6ddd65c-68ae-4b08-90b5-7a3cca285d51"
   },
   "outputs": [
    {
     "name": "stdout",
     "output_type": "stream",
     "text": [
      "Number of records = 267\n",
      "Number of attributes = 20\n"
     ]
    },
    {
     "data": {
      "text/html": [
       "<div>\n",
       "<style scoped>\n",
       "    .dataframe tbody tr th:only-of-type {\n",
       "        vertical-align: middle;\n",
       "    }\n",
       "\n",
       "    .dataframe tbody tr th {\n",
       "        vertical-align: top;\n",
       "    }\n",
       "\n",
       "    .dataframe thead th {\n",
       "        text-align: right;\n",
       "    }\n",
       "</style>\n",
       "<table border=\"1\" class=\"dataframe\">\n",
       "  <thead>\n",
       "    <tr style=\"text-align: right;\">\n",
       "      <th></th>\n",
       "      <th>Unnamed: 0</th>\n",
       "      <th>track_name</th>\n",
       "      <th>artist_name</th>\n",
       "      <th>artist_pop</th>\n",
       "      <th>album</th>\n",
       "      <th>track_pop</th>\n",
       "      <th>danceability</th>\n",
       "      <th>energy</th>\n",
       "      <th>loudness</th>\n",
       "      <th>mode</th>\n",
       "      <th>key</th>\n",
       "      <th>speechiness</th>\n",
       "      <th>acousticness</th>\n",
       "      <th>instrumentalness</th>\n",
       "      <th>liveness</th>\n",
       "      <th>valence</th>\n",
       "      <th>tempo</th>\n",
       "      <th>time_signature</th>\n",
       "      <th>duration_ms</th>\n",
       "      <th>track_pop_minus_artist_pop</th>\n",
       "    </tr>\n",
       "  </thead>\n",
       "  <tbody>\n",
       "    <tr>\n",
       "      <th>0</th>\n",
       "      <td>0</td>\n",
       "      <td>Say So</td>\n",
       "      <td>Doja Cat</td>\n",
       "      <td>0.88</td>\n",
       "      <td>Hot Pink</td>\n",
       "      <td>0.80</td>\n",
       "      <td>0.787</td>\n",
       "      <td>0.673</td>\n",
       "      <td>-4.583</td>\n",
       "      <td>0</td>\n",
       "      <td>11</td>\n",
       "      <td>0.1590</td>\n",
       "      <td>0.26400</td>\n",
       "      <td>0.000003</td>\n",
       "      <td>0.0904</td>\n",
       "      <td>0.779</td>\n",
       "      <td>110.962</td>\n",
       "      <td>4</td>\n",
       "      <td>237893</td>\n",
       "      <td>-0.08</td>\n",
       "    </tr>\n",
       "    <tr>\n",
       "      <th>1</th>\n",
       "      <td>1</td>\n",
       "      <td>Blinding Lights</td>\n",
       "      <td>The Weeknd</td>\n",
       "      <td>0.93</td>\n",
       "      <td>After Hours</td>\n",
       "      <td>0.90</td>\n",
       "      <td>0.514</td>\n",
       "      <td>0.730</td>\n",
       "      <td>-5.934</td>\n",
       "      <td>1</td>\n",
       "      <td>1</td>\n",
       "      <td>0.0598</td>\n",
       "      <td>0.00146</td>\n",
       "      <td>0.000095</td>\n",
       "      <td>0.0897</td>\n",
       "      <td>0.334</td>\n",
       "      <td>171.005</td>\n",
       "      <td>4</td>\n",
       "      <td>200040</td>\n",
       "      <td>-0.03</td>\n",
       "    </tr>\n",
       "    <tr>\n",
       "      <th>2</th>\n",
       "      <td>2</td>\n",
       "      <td>Supalonely (feat. Gus Dapperton)</td>\n",
       "      <td>BENEE</td>\n",
       "      <td>0.67</td>\n",
       "      <td>Hey u x</td>\n",
       "      <td>0.63</td>\n",
       "      <td>0.862</td>\n",
       "      <td>0.631</td>\n",
       "      <td>-4.746</td>\n",
       "      <td>1</td>\n",
       "      <td>7</td>\n",
       "      <td>0.0515</td>\n",
       "      <td>0.29100</td>\n",
       "      <td>0.000209</td>\n",
       "      <td>0.1230</td>\n",
       "      <td>0.841</td>\n",
       "      <td>128.978</td>\n",
       "      <td>4</td>\n",
       "      <td>223488</td>\n",
       "      <td>-0.04</td>\n",
       "    </tr>\n",
       "    <tr>\n",
       "      <th>3</th>\n",
       "      <td>3</td>\n",
       "      <td>Savage</td>\n",
       "      <td>Megan Thee Stallion</td>\n",
       "      <td>0.82</td>\n",
       "      <td>Suga</td>\n",
       "      <td>0.70</td>\n",
       "      <td>0.843</td>\n",
       "      <td>0.741</td>\n",
       "      <td>-5.609</td>\n",
       "      <td>1</td>\n",
       "      <td>11</td>\n",
       "      <td>0.3340</td>\n",
       "      <td>0.02520</td>\n",
       "      <td>0.000000</td>\n",
       "      <td>0.0960</td>\n",
       "      <td>0.680</td>\n",
       "      <td>168.983</td>\n",
       "      <td>4</td>\n",
       "      <td>155497</td>\n",
       "      <td>-0.12</td>\n",
       "    </tr>\n",
       "    <tr>\n",
       "      <th>4</th>\n",
       "      <td>4</td>\n",
       "      <td>Moral of the Story</td>\n",
       "      <td>Ashe</td>\n",
       "      <td>0.68</td>\n",
       "      <td>Moral of the Story</td>\n",
       "      <td>0.76</td>\n",
       "      <td>0.572</td>\n",
       "      <td>0.406</td>\n",
       "      <td>-8.624</td>\n",
       "      <td>1</td>\n",
       "      <td>10</td>\n",
       "      <td>0.0427</td>\n",
       "      <td>0.58700</td>\n",
       "      <td>0.000004</td>\n",
       "      <td>0.1020</td>\n",
       "      <td>0.265</td>\n",
       "      <td>119.812</td>\n",
       "      <td>4</td>\n",
       "      <td>201084</td>\n",
       "      <td>0.08</td>\n",
       "    </tr>\n",
       "  </tbody>\n",
       "</table>\n",
       "</div>"
      ],
      "text/plain": [
       "   Unnamed: 0                        track_name          artist_name  \\\n",
       "0           0                            Say So             Doja Cat   \n",
       "1           1                   Blinding Lights           The Weeknd   \n",
       "2           2  Supalonely (feat. Gus Dapperton)                BENEE   \n",
       "3           3                            Savage  Megan Thee Stallion   \n",
       "4           4                Moral of the Story                 Ashe   \n",
       "\n",
       "   artist_pop               album  track_pop  danceability  energy  loudness  \\\n",
       "0        0.88            Hot Pink       0.80         0.787   0.673    -4.583   \n",
       "1        0.93         After Hours       0.90         0.514   0.730    -5.934   \n",
       "2        0.67             Hey u x       0.63         0.862   0.631    -4.746   \n",
       "3        0.82                Suga       0.70         0.843   0.741    -5.609   \n",
       "4        0.68  Moral of the Story       0.76         0.572   0.406    -8.624   \n",
       "\n",
       "   mode  key  speechiness  acousticness  instrumentalness  liveness  valence  \\\n",
       "0     0   11       0.1590       0.26400          0.000003    0.0904    0.779   \n",
       "1     1    1       0.0598       0.00146          0.000095    0.0897    0.334   \n",
       "2     1    7       0.0515       0.29100          0.000209    0.1230    0.841   \n",
       "3     1   11       0.3340       0.02520          0.000000    0.0960    0.680   \n",
       "4     1   10       0.0427       0.58700          0.000004    0.1020    0.265   \n",
       "\n",
       "     tempo  time_signature  duration_ms  track_pop_minus_artist_pop  \n",
       "0  110.962               4       237893                       -0.08  \n",
       "1  171.005               4       200040                       -0.03  \n",
       "2  128.978               4       223488                       -0.04  \n",
       "3  168.983               4       155497                       -0.12  \n",
       "4  119.812               4       201084                        0.08  "
      ]
     },
     "execution_count": 1,
     "metadata": {},
     "output_type": "execute_result"
    }
   ],
   "source": [
    "import pandas as pd\n",
    " \n",
    "data = pd.read_csv('TicTok_pre_proc.csv')\n",
    "print('Number of records = %d' % (data.shape[0]))\n",
    "print('Number of attributes = %d' % (data.shape[1]))\n",
    "data.head()\n"
   ]
  },
  {
   "cell_type": "markdown",
   "id": "7Awguw4BETFV",
   "metadata": {
    "id": "7Awguw4BETFV"
   },
   "source": [
    "**Check missing values**"
   ]
  },
  {
   "cell_type": "code",
   "execution_count": 2,
   "id": "8663320b",
   "metadata": {
    "colab": {
     "base_uri": "https://localhost:8080/"
    },
    "id": "8663320b",
    "outputId": "ae27a13d-0e2b-499b-d441-f88dd281ea9b"
   },
   "outputs": [
    {
     "data": {
      "text/plain": [
       "Unnamed: 0                    False\n",
       "track_name                    False\n",
       "artist_name                   False\n",
       "artist_pop                    False\n",
       "album                         False\n",
       "track_pop                     False\n",
       "danceability                  False\n",
       "energy                        False\n",
       "loudness                      False\n",
       "mode                          False\n",
       "key                           False\n",
       "speechiness                   False\n",
       "acousticness                  False\n",
       "instrumentalness              False\n",
       "liveness                      False\n",
       "valence                       False\n",
       "tempo                         False\n",
       "time_signature                False\n",
       "duration_ms                   False\n",
       "track_pop_minus_artist_pop    False\n",
       "dtype: bool"
      ]
     },
     "execution_count": 2,
     "metadata": {},
     "output_type": "execute_result"
    }
   ],
   "source": [
    "#got help from: https://www.datasciencemadesimple.com/check-count-missing-values-pandas-python-2/\n",
    "''' there seem to be no missing values in this dataset, YAY'''\n",
    "data.isnull().any()"
   ]
  },
  {
   "cell_type": "code",
   "execution_count": 3,
   "id": "oGg64Wo3sX9b",
   "metadata": {
    "colab": {
     "base_uri": "https://localhost:8080/"
    },
    "id": "oGg64Wo3sX9b",
    "outputId": "5182b95b-d81d-4340-dcb0-d0351f4e0204"
   },
   "outputs": [
    {
     "name": "stdout",
     "output_type": "stream",
     "text": [
      "Number of rows before dropping N/A = 267\n",
      "Number of rows after dropping N/A = 267\n"
     ]
    }
   ],
   "source": [
    "#But the data dictionary said key signature = -1 means N/A, so we should check for that\n",
    "print('Number of rows before dropping N/A = %d' % (data.shape[0]))\n",
    "data = data[data.key != -1]\n",
    "print('Number of rows after dropping N/A = %d' % (data.shape[0]))\n"
   ]
  },
  {
   "cell_type": "markdown",
   "id": "aAmEhS1jD2B-",
   "metadata": {
    "id": "aAmEhS1jD2B-"
   },
   "source": [
    "**Column Drop/Add/Update**"
   ]
  },
  {
   "cell_type": "markdown",
   "id": "vf8n96a0Uvqa",
   "metadata": {
    "id": "vf8n96a0Uvqa"
   },
   "source": [
    "artist_pop and track_pop where values from 1 to 100. We maped them to be from 0 to 1 so they did not outway other variables. "
   ]
  },
  {
   "cell_type": "code",
   "execution_count": 4,
   "id": "G6XpM5OvP7mD",
   "metadata": {
    "colab": {
     "base_uri": "https://localhost:8080/",
     "height": 392
    },
    "id": "G6XpM5OvP7mD",
    "outputId": "d8e5e753-3852-498f-f4d8-86930a7d5144"
   },
   "outputs": [
    {
     "data": {
      "text/html": [
       "<div>\n",
       "<style scoped>\n",
       "    .dataframe tbody tr th:only-of-type {\n",
       "        vertical-align: middle;\n",
       "    }\n",
       "\n",
       "    .dataframe tbody tr th {\n",
       "        vertical-align: top;\n",
       "    }\n",
       "\n",
       "    .dataframe thead th {\n",
       "        text-align: right;\n",
       "    }\n",
       "</style>\n",
       "<table border=\"1\" class=\"dataframe\">\n",
       "  <thead>\n",
       "    <tr style=\"text-align: right;\">\n",
       "      <th></th>\n",
       "      <th>Unnamed: 0</th>\n",
       "      <th>track_name</th>\n",
       "      <th>artist_name</th>\n",
       "      <th>artist_pop</th>\n",
       "      <th>album</th>\n",
       "      <th>track_pop</th>\n",
       "      <th>danceability</th>\n",
       "      <th>energy</th>\n",
       "      <th>loudness</th>\n",
       "      <th>mode</th>\n",
       "      <th>key</th>\n",
       "      <th>speechiness</th>\n",
       "      <th>acousticness</th>\n",
       "      <th>instrumentalness</th>\n",
       "      <th>liveness</th>\n",
       "      <th>valence</th>\n",
       "      <th>tempo</th>\n",
       "      <th>time_signature</th>\n",
       "      <th>duration_ms</th>\n",
       "      <th>track_pop_minus_artist_pop</th>\n",
       "    </tr>\n",
       "  </thead>\n",
       "  <tbody>\n",
       "    <tr>\n",
       "      <th>0</th>\n",
       "      <td>0</td>\n",
       "      <td>Say So</td>\n",
       "      <td>Doja Cat</td>\n",
       "      <td>0.0088</td>\n",
       "      <td>Hot Pink</td>\n",
       "      <td>0.0080</td>\n",
       "      <td>0.787</td>\n",
       "      <td>0.673</td>\n",
       "      <td>-4.583</td>\n",
       "      <td>0</td>\n",
       "      <td>11</td>\n",
       "      <td>0.1590</td>\n",
       "      <td>0.26400</td>\n",
       "      <td>0.000003</td>\n",
       "      <td>0.0904</td>\n",
       "      <td>0.779</td>\n",
       "      <td>110.962</td>\n",
       "      <td>4</td>\n",
       "      <td>237893</td>\n",
       "      <td>-0.08</td>\n",
       "    </tr>\n",
       "    <tr>\n",
       "      <th>1</th>\n",
       "      <td>1</td>\n",
       "      <td>Blinding Lights</td>\n",
       "      <td>The Weeknd</td>\n",
       "      <td>0.0093</td>\n",
       "      <td>After Hours</td>\n",
       "      <td>0.0090</td>\n",
       "      <td>0.514</td>\n",
       "      <td>0.730</td>\n",
       "      <td>-5.934</td>\n",
       "      <td>1</td>\n",
       "      <td>1</td>\n",
       "      <td>0.0598</td>\n",
       "      <td>0.00146</td>\n",
       "      <td>0.000095</td>\n",
       "      <td>0.0897</td>\n",
       "      <td>0.334</td>\n",
       "      <td>171.005</td>\n",
       "      <td>4</td>\n",
       "      <td>200040</td>\n",
       "      <td>-0.03</td>\n",
       "    </tr>\n",
       "    <tr>\n",
       "      <th>2</th>\n",
       "      <td>2</td>\n",
       "      <td>Supalonely (feat. Gus Dapperton)</td>\n",
       "      <td>BENEE</td>\n",
       "      <td>0.0067</td>\n",
       "      <td>Hey u x</td>\n",
       "      <td>0.0063</td>\n",
       "      <td>0.862</td>\n",
       "      <td>0.631</td>\n",
       "      <td>-4.746</td>\n",
       "      <td>1</td>\n",
       "      <td>7</td>\n",
       "      <td>0.0515</td>\n",
       "      <td>0.29100</td>\n",
       "      <td>0.000209</td>\n",
       "      <td>0.1230</td>\n",
       "      <td>0.841</td>\n",
       "      <td>128.978</td>\n",
       "      <td>4</td>\n",
       "      <td>223488</td>\n",
       "      <td>-0.04</td>\n",
       "    </tr>\n",
       "    <tr>\n",
       "      <th>3</th>\n",
       "      <td>3</td>\n",
       "      <td>Savage</td>\n",
       "      <td>Megan Thee Stallion</td>\n",
       "      <td>0.0082</td>\n",
       "      <td>Suga</td>\n",
       "      <td>0.0070</td>\n",
       "      <td>0.843</td>\n",
       "      <td>0.741</td>\n",
       "      <td>-5.609</td>\n",
       "      <td>1</td>\n",
       "      <td>11</td>\n",
       "      <td>0.3340</td>\n",
       "      <td>0.02520</td>\n",
       "      <td>0.000000</td>\n",
       "      <td>0.0960</td>\n",
       "      <td>0.680</td>\n",
       "      <td>168.983</td>\n",
       "      <td>4</td>\n",
       "      <td>155497</td>\n",
       "      <td>-0.12</td>\n",
       "    </tr>\n",
       "    <tr>\n",
       "      <th>4</th>\n",
       "      <td>4</td>\n",
       "      <td>Moral of the Story</td>\n",
       "      <td>Ashe</td>\n",
       "      <td>0.0068</td>\n",
       "      <td>Moral of the Story</td>\n",
       "      <td>0.0076</td>\n",
       "      <td>0.572</td>\n",
       "      <td>0.406</td>\n",
       "      <td>-8.624</td>\n",
       "      <td>1</td>\n",
       "      <td>10</td>\n",
       "      <td>0.0427</td>\n",
       "      <td>0.58700</td>\n",
       "      <td>0.000004</td>\n",
       "      <td>0.1020</td>\n",
       "      <td>0.265</td>\n",
       "      <td>119.812</td>\n",
       "      <td>4</td>\n",
       "      <td>201084</td>\n",
       "      <td>0.08</td>\n",
       "    </tr>\n",
       "  </tbody>\n",
       "</table>\n",
       "</div>"
      ],
      "text/plain": [
       "   Unnamed: 0                        track_name          artist_name  \\\n",
       "0           0                            Say So             Doja Cat   \n",
       "1           1                   Blinding Lights           The Weeknd   \n",
       "2           2  Supalonely (feat. Gus Dapperton)                BENEE   \n",
       "3           3                            Savage  Megan Thee Stallion   \n",
       "4           4                Moral of the Story                 Ashe   \n",
       "\n",
       "   artist_pop               album  track_pop  danceability  energy  loudness  \\\n",
       "0      0.0088            Hot Pink     0.0080         0.787   0.673    -4.583   \n",
       "1      0.0093         After Hours     0.0090         0.514   0.730    -5.934   \n",
       "2      0.0067             Hey u x     0.0063         0.862   0.631    -4.746   \n",
       "3      0.0082                Suga     0.0070         0.843   0.741    -5.609   \n",
       "4      0.0068  Moral of the Story     0.0076         0.572   0.406    -8.624   \n",
       "\n",
       "   mode  key  speechiness  acousticness  instrumentalness  liveness  valence  \\\n",
       "0     0   11       0.1590       0.26400          0.000003    0.0904    0.779   \n",
       "1     1    1       0.0598       0.00146          0.000095    0.0897    0.334   \n",
       "2     1    7       0.0515       0.29100          0.000209    0.1230    0.841   \n",
       "3     1   11       0.3340       0.02520          0.000000    0.0960    0.680   \n",
       "4     1   10       0.0427       0.58700          0.000004    0.1020    0.265   \n",
       "\n",
       "     tempo  time_signature  duration_ms  track_pop_minus_artist_pop  \n",
       "0  110.962               4       237893                       -0.08  \n",
       "1  171.005               4       200040                       -0.03  \n",
       "2  128.978               4       223488                       -0.04  \n",
       "3  168.983               4       155497                       -0.12  \n",
       "4  119.812               4       201084                        0.08  "
      ]
     },
     "execution_count": 4,
     "metadata": {},
     "output_type": "execute_result"
    }
   ],
   "source": [
    "#got help from: https://www.statology.org/pandas-apply-function-to-every-row/\n",
    "#map values from 0 to 1\n",
    "\n",
    "data['artist_pop'] = data.apply(lambda x: x[\"artist_pop\"] / 100, axis=1)\n",
    "data['track_pop'] = data.apply(lambda x: x[\"track_pop\"] / 100, axis=1)\n",
    "data.head()"
   ]
  },
  {
   "cell_type": "code",
   "execution_count": 5,
   "id": "n9LOm35bSK1j",
   "metadata": {
    "colab": {
     "base_uri": "https://localhost:8080/",
     "height": 298
    },
    "id": "n9LOm35bSK1j",
    "outputId": "df49ff89-21d6-4e8d-9d8b-baff6efec5e1"
   },
   "outputs": [
    {
     "data": {
      "text/plain": [
       "0.4158133708588965"
      ]
     },
     "execution_count": 5,
     "metadata": {},
     "output_type": "execute_result"
    },
    {
     "data": {
      "image/png": "[encoded data removed]",
      "text/plain": [
       "<Figure size 432x288 with 1 Axes>"
      ]
     },
     "metadata": {
      "needs_background": "light"
     },
     "output_type": "display_data"
    }
   ],
   "source": [
    "#Check if there's any column that can be dropped\n",
    "\"\"\"\n",
    "I ploted the track-pop and artist_pop and found the correlation \n",
    "I thought they might be so simmilar we could get rid of one but they are not. \n",
    "\"\"\"\n",
    "\n",
    "data.plot.scatter(\"artist_pop\",\"track_pop\")\n",
    "data[\"artist_pop\"].corr(data[\"track_pop\"])"
   ]
  },
  {
   "cell_type": "code",
   "execution_count": 6,
   "id": "85cb9b6c",
   "metadata": {
    "colab": {
     "base_uri": "https://localhost:8080/",
     "height": 298
    },
    "id": "85cb9b6c",
    "outputId": "bbad2b42-90a9-4042-e649-ee8b8300ff14"
   },
   "outputs": [
    {
     "data": {
      "text/plain": [
       "-0.09705944362456465"
      ]
     },
     "execution_count": 6,
     "metadata": {},
     "output_type": "execute_result"
    },
    {
     "data": {
      "image/png": "[encoded data removed]",
      "text/plain": [
       "<Figure size 432x288 with 1 Axes>"
      ]
     },
     "metadata": {
      "needs_background": "light"
     },
     "output_type": "display_data"
    }
   ],
   "source": [
    "data.plot.scatter(\"track_pop\",\"danceability\")\n",
    "data[\"track_pop\"].corr(data[\"danceability\"])"
   ]
  },
  {
   "cell_type": "markdown",
   "id": "SpGNze3hhrur",
   "metadata": {
    "id": "SpGNze3hhrur"
   },
   "source": [
    "Added track_pop_minus_artist_pop to represent track popularity minus artist popularity. A track made by a popular artist will naturaly have some degree of popularity.  This colume is meant to help find tracks that are more popular than you would expect given the artists popularity. This value will be high when the track_pop is high and the artest_pop is low."
   ]
  },
  {
   "cell_type": "code",
   "execution_count": 7,
   "id": "SJNsfzntRnRs",
   "metadata": {
    "colab": {
     "base_uri": "https://localhost:8080/",
     "height": 392
    },
    "id": "SJNsfzntRnRs",
    "outputId": "6a08b122-bc3c-4044-8ce8-7797d14e2ebb"
   },
   "outputs": [
    {
     "data": {
      "text/html": [
       "<div>\n",
       "<style scoped>\n",
       "    .dataframe tbody tr th:only-of-type {\n",
       "        vertical-align: middle;\n",
       "    }\n",
       "\n",
       "    .dataframe tbody tr th {\n",
       "        vertical-align: top;\n",
       "    }\n",
       "\n",
       "    .dataframe thead th {\n",
       "        text-align: right;\n",
       "    }\n",
       "</style>\n",
       "<table border=\"1\" class=\"dataframe\">\n",
       "  <thead>\n",
       "    <tr style=\"text-align: right;\">\n",
       "      <th></th>\n",
       "      <th>Unnamed: 0</th>\n",
       "      <th>track_name</th>\n",
       "      <th>artist_name</th>\n",
       "      <th>artist_pop</th>\n",
       "      <th>album</th>\n",
       "      <th>track_pop</th>\n",
       "      <th>danceability</th>\n",
       "      <th>energy</th>\n",
       "      <th>loudness</th>\n",
       "      <th>mode</th>\n",
       "      <th>key</th>\n",
       "      <th>speechiness</th>\n",
       "      <th>acousticness</th>\n",
       "      <th>instrumentalness</th>\n",
       "      <th>liveness</th>\n",
       "      <th>valence</th>\n",
       "      <th>tempo</th>\n",
       "      <th>time_signature</th>\n",
       "      <th>duration_ms</th>\n",
       "      <th>track_pop_minus_artist_pop</th>\n",
       "    </tr>\n",
       "  </thead>\n",
       "  <tbody>\n",
       "    <tr>\n",
       "      <th>0</th>\n",
       "      <td>0</td>\n",
       "      <td>Say So</td>\n",
       "      <td>Doja Cat</td>\n",
       "      <td>0.0088</td>\n",
       "      <td>Hot Pink</td>\n",
       "      <td>0.0080</td>\n",
       "      <td>0.787</td>\n",
       "      <td>0.673</td>\n",
       "      <td>-4.583</td>\n",
       "      <td>0</td>\n",
       "      <td>11</td>\n",
       "      <td>0.1590</td>\n",
       "      <td>0.26400</td>\n",
       "      <td>0.000003</td>\n",
       "      <td>0.0904</td>\n",
       "      <td>0.779</td>\n",
       "      <td>110.962</td>\n",
       "      <td>4</td>\n",
       "      <td>237893</td>\n",
       "      <td>-0.0008</td>\n",
       "    </tr>\n",
       "    <tr>\n",
       "      <th>1</th>\n",
       "      <td>1</td>\n",
       "      <td>Blinding Lights</td>\n",
       "      <td>The Weeknd</td>\n",
       "      <td>0.0093</td>\n",
       "      <td>After Hours</td>\n",
       "      <td>0.0090</td>\n",
       "      <td>0.514</td>\n",
       "      <td>0.730</td>\n",
       "      <td>-5.934</td>\n",
       "      <td>1</td>\n",
       "      <td>1</td>\n",
       "      <td>0.0598</td>\n",
       "      <td>0.00146</td>\n",
       "      <td>0.000095</td>\n",
       "      <td>0.0897</td>\n",
       "      <td>0.334</td>\n",
       "      <td>171.005</td>\n",
       "      <td>4</td>\n",
       "      <td>200040</td>\n",
       "      <td>-0.0003</td>\n",
       "    </tr>\n",
       "    <tr>\n",
       "      <th>2</th>\n",
       "      <td>2</td>\n",
       "      <td>Supalonely (feat. Gus Dapperton)</td>\n",
       "      <td>BENEE</td>\n",
       "      <td>0.0067</td>\n",
       "      <td>Hey u x</td>\n",
       "      <td>0.0063</td>\n",
       "      <td>0.862</td>\n",
       "      <td>0.631</td>\n",
       "      <td>-4.746</td>\n",
       "      <td>1</td>\n",
       "      <td>7</td>\n",
       "      <td>0.0515</td>\n",
       "      <td>0.29100</td>\n",
       "      <td>0.000209</td>\n",
       "      <td>0.1230</td>\n",
       "      <td>0.841</td>\n",
       "      <td>128.978</td>\n",
       "      <td>4</td>\n",
       "      <td>223488</td>\n",
       "      <td>-0.0004</td>\n",
       "    </tr>\n",
       "    <tr>\n",
       "      <th>3</th>\n",
       "      <td>3</td>\n",
       "      <td>Savage</td>\n",
       "      <td>Megan Thee Stallion</td>\n",
       "      <td>0.0082</td>\n",
       "      <td>Suga</td>\n",
       "      <td>0.0070</td>\n",
       "      <td>0.843</td>\n",
       "      <td>0.741</td>\n",
       "      <td>-5.609</td>\n",
       "      <td>1</td>\n",
       "      <td>11</td>\n",
       "      <td>0.3340</td>\n",
       "      <td>0.02520</td>\n",
       "      <td>0.000000</td>\n",
       "      <td>0.0960</td>\n",
       "      <td>0.680</td>\n",
       "      <td>168.983</td>\n",
       "      <td>4</td>\n",
       "      <td>155497</td>\n",
       "      <td>-0.0012</td>\n",
       "    </tr>\n",
       "    <tr>\n",
       "      <th>4</th>\n",
       "      <td>4</td>\n",
       "      <td>Moral of the Story</td>\n",
       "      <td>Ashe</td>\n",
       "      <td>0.0068</td>\n",
       "      <td>Moral of the Story</td>\n",
       "      <td>0.0076</td>\n",
       "      <td>0.572</td>\n",
       "      <td>0.406</td>\n",
       "      <td>-8.624</td>\n",
       "      <td>1</td>\n",
       "      <td>10</td>\n",
       "      <td>0.0427</td>\n",
       "      <td>0.58700</td>\n",
       "      <td>0.000004</td>\n",
       "      <td>0.1020</td>\n",
       "      <td>0.265</td>\n",
       "      <td>119.812</td>\n",
       "      <td>4</td>\n",
       "      <td>201084</td>\n",
       "      <td>0.0008</td>\n",
       "    </tr>\n",
       "  </tbody>\n",
       "</table>\n",
       "</div>"
      ],
      "text/plain": [
       "   Unnamed: 0                        track_name          artist_name  \\\n",
       "0           0                            Say So             Doja Cat   \n",
       "1           1                   Blinding Lights           The Weeknd   \n",
       "2           2  Supalonely (feat. Gus Dapperton)                BENEE   \n",
       "3           3                            Savage  Megan Thee Stallion   \n",
       "4           4                Moral of the Story                 Ashe   \n",
       "\n",
       "   artist_pop               album  track_pop  danceability  energy  loudness  \\\n",
       "0      0.0088            Hot Pink     0.0080         0.787   0.673    -4.583   \n",
       "1      0.0093         After Hours     0.0090         0.514   0.730    -5.934   \n",
       "2      0.0067             Hey u x     0.0063         0.862   0.631    -4.746   \n",
       "3      0.0082                Suga     0.0070         0.843   0.741    -5.609   \n",
       "4      0.0068  Moral of the Story     0.0076         0.572   0.406    -8.624   \n",
       "\n",
       "   mode  key  speechiness  acousticness  instrumentalness  liveness  valence  \\\n",
       "0     0   11       0.1590       0.26400          0.000003    0.0904    0.779   \n",
       "1     1    1       0.0598       0.00146          0.000095    0.0897    0.334   \n",
       "2     1    7       0.0515       0.29100          0.000209    0.1230    0.841   \n",
       "3     1   11       0.3340       0.02520          0.000000    0.0960    0.680   \n",
       "4     1   10       0.0427       0.58700          0.000004    0.1020    0.265   \n",
       "\n",
       "     tempo  time_signature  duration_ms  track_pop_minus_artist_pop  \n",
       "0  110.962               4       237893                     -0.0008  \n",
       "1  171.005               4       200040                     -0.0003  \n",
       "2  128.978               4       223488                     -0.0004  \n",
       "3  168.983               4       155497                     -0.0012  \n",
       "4  119.812               4       201084                      0.0008  "
      ]
     },
     "execution_count": 7,
     "metadata": {},
     "output_type": "execute_result"
    }
   ],
   "source": [
    "#Add track_pop_minus_artist_pop column\n",
    "data['track_pop_minus_artist_pop'] = data.apply(lambda x: x[\"track_pop\"] - x[\"artist_pop\"], axis=1)\n",
    "data.head()\n"
   ]
  },
  {
   "cell_type": "code",
   "execution_count": 8,
   "id": "WM0j7WJY6JaJ",
   "metadata": {
    "colab": {
     "base_uri": "https://localhost:8080/"
    },
    "id": "WM0j7WJY6JaJ",
    "outputId": "6accfd04-4229-4e42-897a-8f2d0fdccb9c"
   },
   "outputs": [
    {
     "name": "stdout",
     "output_type": "stream",
     "text": [
      "Unnamed: 0\n",
      "0.04503043290481023\n",
      "danceability\n",
      "0.015400797147599317\n",
      "energy\n",
      "-0.016699997029794623\n",
      "loudness\n",
      "-0.047147286671316437\n",
      "mode\n",
      "-0.021211358553581496\n",
      "key\n",
      "0.12390684083432157\n",
      "speechiness\n",
      "-0.12861876344987677\n",
      "acousticness\n",
      "0.12114966428025462\n",
      "instrumentalness\n",
      "0.06671502860581416\n",
      "liveness\n",
      "-0.0719818314838633\n",
      "valence\n",
      "0.1382766158146598\n",
      "tempo\n",
      "0.019280402369364236\n",
      "time_signature\n",
      "-0.06565526327367542\n",
      "duration_ms\n",
      "-0.011389344470242778\n"
     ]
    }
   ],
   "source": [
    "import numpy as np\n",
    "\n",
    "for i in range(data.shape[1]):\n",
    "  if np.issubdtype(data[data.columns[i]].dtype, np.number) and not (data.columns[i] == \"track_pop\" or data.columns[i] == \"artist_pop\" or data.columns[i] == \"track_pop_minus_artist_pop\"):\n",
    "    print(data.columns[i])\n",
    "    print(data[\"track_pop_minus_artist_pop\"].corr(data[data.columns[i]]))\n",
    "    \n"
   ]
  },
  {
   "cell_type": "markdown",
   "id": "6hWZJIvdXYc1",
   "metadata": {
    "id": "6hWZJIvdXYc1"
   },
   "source": [
    "This code displays the correlation between each numeric value and track_pop_minus_artist_pop to see if any of the variables on their own make good predicters of track_pop_minus_artist_pop."
   ]
  },
  {
   "cell_type": "markdown",
   "id": "rxpZO_7sDsNB",
   "metadata": {
    "id": "rxpZO_7sDsNB"
   },
   "source": [
    "**Outliers**"
   ]
  },
  {
   "cell_type": "code",
   "execution_count": 9,
   "id": "506c8b67",
   "metadata": {
    "colab": {
     "base_uri": "https://localhost:8080/",
     "height": 283
    },
    "id": "506c8b67",
    "outputId": "21e6a37d-a1a7-49e7-d856-bb171170d955"
   },
   "outputs": [
    {
     "data": {
      "text/plain": [
       "<AxesSubplot:>"
      ]
     },
     "execution_count": 9,
     "metadata": {},
     "output_type": "execute_result"
    },
    {
     "data": {
      "image/png": "[encoded data removed]",
      "text/plain": [
       "<Figure size 432x288 with 1 Axes>"
      ]
     },
     "metadata": {
      "needs_background": "light"
     },
     "output_type": "display_data"
    }
   ],
   "source": [
    "#Deal with outliers\n",
    "#skewed left (not bell curve)\n",
    "\n",
    "%matplotlib inline\n",
    "\n",
    "data['track_pop'].hist(bins=60)"
   ]
  },
  {
   "cell_type": "code",
   "execution_count": 10,
   "id": "SDDfHjEn50d_",
   "metadata": {
    "colab": {
     "base_uri": "https://localhost:8080/",
     "height": 283
    },
    "id": "SDDfHjEn50d_",
    "outputId": "2e3d2208-96cb-4e59-ac32-07a5bca31618"
   },
   "outputs": [
    {
     "data": {
      "text/plain": [
       "<AxesSubplot:>"
      ]
     },
     "execution_count": 10,
     "metadata": {},
     "output_type": "execute_result"
    },
    {
     "data": {
      "image/png": "[encoded data removed]",
      "text/plain": [
       "<Figure size 432x288 with 1 Axes>"
      ]
     },
     "metadata": {
      "needs_background": "light"
     },
     "output_type": "display_data"
    }
   ],
   "source": [
    "%matplotlib inline\n",
    "\n",
    "data['track_pop_minus_artist_pop'].hist(bins=60)"
   ]
  },
  {
   "cell_type": "code",
   "execution_count": 11,
   "id": "QIl8j-AlRDV4",
   "metadata": {
    "colab": {
     "base_uri": "https://localhost:8080/",
     "height": 284
    },
    "id": "QIl8j-AlRDV4",
    "outputId": "16a9d734-0fbd-4b4d-e96c-3b8b2f19525a"
   },
   "outputs": [
    {
     "data": {
      "text/plain": [
       "<AxesSubplot:>"
      ]
     },
     "execution_count": 11,
     "metadata": {},
     "output_type": "execute_result"
    },
    {
     "data": {
      "image/png": "[encoded data removed]",
      "text/plain": [
       "<Figure size 432x288 with 1 Axes>"
      ]
     },
     "metadata": {
      "needs_background": "light"
     },
     "output_type": "display_data"
    }
   ],
   "source": [
    "data.boxplot(column=['track_pop'])\n"
   ]
  },
  {
   "cell_type": "code",
   "execution_count": 12,
   "id": "lzjLf1p553JF",
   "metadata": {
    "colab": {
     "base_uri": "https://localhost:8080/",
     "height": 284
    },
    "id": "lzjLf1p553JF",
    "outputId": "5a929fe5-a36a-4f5c-ff69-7d42b225fbec"
   },
   "outputs": [
    {
     "data": {
      "text/plain": [
       "<AxesSubplot:>"
      ]
     },
     "execution_count": 12,
     "metadata": {},
     "output_type": "execute_result"
    },
    {
     "data": {
      "image/png": "[encoded data removed]",
      "text/plain": [
       "<Figure size 432x288 with 1 Axes>"
      ]
     },
     "metadata": {
      "needs_background": "light"
     },
     "output_type": "display_data"
    }
   ],
   "source": [
    "data.boxplot(column=['track_pop_minus_artist_pop'])"
   ]
  },
  {
   "cell_type": "code",
   "execution_count": 13,
   "id": "cwfsMUi-oo42",
   "metadata": {
    "colab": {
     "base_uri": "https://localhost:8080/",
     "height": 230
    },
    "id": "cwfsMUi-oo42",
    "outputId": "cc32cc0c-0216-469a-f9a8-4166aa69e1e3"
   },
   "outputs": [
    {
     "data": {
      "text/plain": [
       "<AxesSubplot:>"
      ]
     },
     "execution_count": 13,
     "metadata": {},
     "output_type": "execute_result"
    },
    {
     "data": {
      "image/png": "[encoded data removed]",
      "text/plain": [
       "<Figure size 1440x216 with 1 Axes>"
      ]
     },
     "metadata": {
      "needs_background": "light"
     },
     "output_type": "display_data"
    }
   ],
   "source": [
    "data.boxplot(column=['artist_pop','danceability','energy','loudness'], figsize = (20, 3))"
   ]
  },
  {
   "cell_type": "code",
   "execution_count": 14,
   "id": "vnYqgiIop5KN",
   "metadata": {
    "colab": {
     "base_uri": "https://localhost:8080/",
     "height": 230
    },
    "id": "vnYqgiIop5KN",
    "outputId": "072314db-1568-45e2-b680-14776c22bda2"
   },
   "outputs": [
    {
     "data": {
      "text/plain": [
       "<AxesSubplot:>"
      ]
     },
     "execution_count": 14,
     "metadata": {},
     "output_type": "execute_result"
    },
    {
     "data": {
      "image/png": "[encoded data removed]",
      "text/plain": [
       "<Figure size 1440x216 with 1 Axes>"
      ]
     },
     "metadata": {
      "needs_background": "light"
     },
     "output_type": "display_data"
    }
   ],
   "source": [
    "data.boxplot(column=['speechiness','acousticness','instrumentalness'], figsize = (20, 3))"
   ]
  },
  {
   "cell_type": "code",
   "execution_count": 15,
   "id": "FmYgtNLXqFEc",
   "metadata": {
    "colab": {
     "base_uri": "https://localhost:8080/",
     "height": 230
    },
    "id": "FmYgtNLXqFEc",
    "outputId": "8dc1bb96-6684-42f3-8746-a67aa9af0ed7"
   },
   "outputs": [
    {
     "data": {
      "text/plain": [
       "<AxesSubplot:>"
      ]
     },
     "execution_count": 15,
     "metadata": {},
     "output_type": "execute_result"
    },
    {
     "data": {
      "image/png": "[encoded data removed]",
      "text/plain": [
       "<Figure size 1440x216 with 1 Axes>"
      ]
     },
     "metadata": {
      "needs_background": "light"
     },
     "output_type": "display_data"
    }
   ],
   "source": [
    "data.boxplot(column=['liveness','valence','tempo','duration_ms'], figsize = (20, 3))"
   ]
  },
  {
   "cell_type": "code",
   "execution_count": 16,
   "id": "r0pXP08XsygX",
   "metadata": {
    "colab": {
     "base_uri": "https://localhost:8080/",
     "height": 427
    },
    "id": "r0pXP08XsygX",
    "outputId": "d5aaf35a-2281-47c2-9cec-f1820c8fd332"
   },
   "outputs": [
    {
     "data": {
      "text/html": [
       "<div>\n",
       "<style scoped>\n",
       "    .dataframe tbody tr th:only-of-type {\n",
       "        vertical-align: middle;\n",
       "    }\n",
       "\n",
       "    .dataframe tbody tr th {\n",
       "        vertical-align: top;\n",
       "    }\n",
       "\n",
       "    .dataframe thead th {\n",
       "        text-align: right;\n",
       "    }\n",
       "</style>\n",
       "<table border=\"1\" class=\"dataframe\">\n",
       "  <thead>\n",
       "    <tr style=\"text-align: right;\">\n",
       "      <th></th>\n",
       "      <th>Unnamed: 0</th>\n",
       "      <th>artist_pop</th>\n",
       "      <th>track_pop</th>\n",
       "      <th>danceability</th>\n",
       "      <th>energy</th>\n",
       "      <th>loudness</th>\n",
       "      <th>mode</th>\n",
       "      <th>key</th>\n",
       "      <th>speechiness</th>\n",
       "      <th>acousticness</th>\n",
       "      <th>instrumentalness</th>\n",
       "      <th>liveness</th>\n",
       "      <th>valence</th>\n",
       "      <th>tempo</th>\n",
       "      <th>time_signature</th>\n",
       "      <th>duration_ms</th>\n",
       "      <th>track_pop_minus_artist_pop</th>\n",
       "    </tr>\n",
       "  </thead>\n",
       "  <tbody>\n",
       "    <tr>\n",
       "      <th>0</th>\n",
       "      <td>-1.757897</td>\n",
       "      <td>1.255424</td>\n",
       "      <td>0.904412</td>\n",
       "      <td>0.421406</td>\n",
       "      <td>0.376200</td>\n",
       "      <td>0.886535</td>\n",
       "      <td>-1.055868</td>\n",
       "      <td>1.590290</td>\n",
       "      <td>0.144138</td>\n",
       "      <td>0.122196</td>\n",
       "      <td>-0.223493</td>\n",
       "      <td>-0.747828</td>\n",
       "      <td>1.095450</td>\n",
       "      <td>-0.319253</td>\n",
       "      <td>0.179153</td>\n",
       "      <td>0.936270</td>\n",
       "      <td>-0.071771</td>\n",
       "    </tr>\n",
       "    <tr>\n",
       "      <th>1</th>\n",
       "      <td>-1.745954</td>\n",
       "      <td>1.568225</td>\n",
       "      <td>1.390087</td>\n",
       "      <td>-1.463286</td>\n",
       "      <td>0.733251</td>\n",
       "      <td>0.326203</td>\n",
       "      <td>0.943541</td>\n",
       "      <td>-1.100505</td>\n",
       "      <td>-0.643373</td>\n",
       "      <td>-0.913143</td>\n",
       "      <td>-0.221781</td>\n",
       "      <td>-0.754119</td>\n",
       "      <td>-1.002106</td>\n",
       "      <td>2.104298</td>\n",
       "      <td>0.179153</td>\n",
       "      <td>0.174922</td>\n",
       "      <td>0.176453</td>\n",
       "    </tr>\n",
       "    <tr>\n",
       "      <th>2</th>\n",
       "      <td>-1.734012</td>\n",
       "      <td>-0.058343</td>\n",
       "      <td>0.078763</td>\n",
       "      <td>0.939178</td>\n",
       "      <td>0.113110</td>\n",
       "      <td>0.818931</td>\n",
       "      <td>0.943541</td>\n",
       "      <td>0.513972</td>\n",
       "      <td>-0.709264</td>\n",
       "      <td>0.228672</td>\n",
       "      <td>-0.219668</td>\n",
       "      <td>-0.454872</td>\n",
       "      <td>1.387693</td>\n",
       "      <td>0.407937</td>\n",
       "      <td>0.179153</td>\n",
       "      <td>0.646538</td>\n",
       "      <td>0.126808</td>\n",
       "    </tr>\n",
       "    <tr>\n",
       "      <th>3</th>\n",
       "      <td>-1.722070</td>\n",
       "      <td>0.880062</td>\n",
       "      <td>0.418736</td>\n",
       "      <td>0.808009</td>\n",
       "      <td>0.802155</td>\n",
       "      <td>0.460998</td>\n",
       "      <td>0.943541</td>\n",
       "      <td>1.590290</td>\n",
       "      <td>1.533397</td>\n",
       "      <td>-0.819523</td>\n",
       "      <td>-0.223556</td>\n",
       "      <td>-0.697505</td>\n",
       "      <td>0.628802</td>\n",
       "      <td>2.022683</td>\n",
       "      <td>0.179153</td>\n",
       "      <td>-0.720985</td>\n",
       "      <td>-0.270350</td>\n",
       "    </tr>\n",
       "    <tr>\n",
       "      <th>4</th>\n",
       "      <td>-1.710127</td>\n",
       "      <td>0.004218</td>\n",
       "      <td>0.710142</td>\n",
       "      <td>-1.062875</td>\n",
       "      <td>-1.296302</td>\n",
       "      <td>-0.789485</td>\n",
       "      <td>0.943541</td>\n",
       "      <td>1.321210</td>\n",
       "      <td>-0.779124</td>\n",
       "      <td>1.395963</td>\n",
       "      <td>-0.223472</td>\n",
       "      <td>-0.643586</td>\n",
       "      <td>-1.327345</td>\n",
       "      <td>0.037964</td>\n",
       "      <td>0.179153</td>\n",
       "      <td>0.195920</td>\n",
       "      <td>0.722546</td>\n",
       "    </tr>\n",
       "    <tr>\n",
       "      <th>5</th>\n",
       "      <td>-1.698185</td>\n",
       "      <td>1.005182</td>\n",
       "      <td>0.613006</td>\n",
       "      <td>-0.372512</td>\n",
       "      <td>1.516257</td>\n",
       "      <td>1.226219</td>\n",
       "      <td>0.943541</td>\n",
       "      <td>1.052131</td>\n",
       "      <td>-0.802939</td>\n",
       "      <td>-0.836086</td>\n",
       "      <td>-0.223556</td>\n",
       "      <td>1.342404</td>\n",
       "      <td>0.468540</td>\n",
       "      <td>0.168904</td>\n",
       "      <td>0.179153</td>\n",
       "      <td>-0.183899</td>\n",
       "      <td>-0.171061</td>\n",
       "    </tr>\n",
       "    <tr>\n",
       "      <th>6</th>\n",
       "      <td>-1.686242</td>\n",
       "      <td>1.005182</td>\n",
       "      <td>0.127331</td>\n",
       "      <td>-0.193017</td>\n",
       "      <td>1.165470</td>\n",
       "      <td>0.974049</td>\n",
       "      <td>0.943541</td>\n",
       "      <td>-0.831425</td>\n",
       "      <td>-0.846602</td>\n",
       "      <td>-0.868029</td>\n",
       "      <td>-0.223454</td>\n",
       "      <td>0.371875</td>\n",
       "      <td>-0.921975</td>\n",
       "      <td>-0.117637</td>\n",
       "      <td>0.179153</td>\n",
       "      <td>-0.595558</td>\n",
       "      <td>-0.667509</td>\n",
       "    </tr>\n",
       "    <tr>\n",
       "      <th>7</th>\n",
       "      <td>-1.662358</td>\n",
       "      <td>0.880062</td>\n",
       "      <td>0.661574</td>\n",
       "      <td>-0.013523</td>\n",
       "      <td>-0.763858</td>\n",
       "      <td>0.288875</td>\n",
       "      <td>0.943541</td>\n",
       "      <td>0.783051</td>\n",
       "      <td>-0.883119</td>\n",
       "      <td>-0.847917</td>\n",
       "      <td>-0.223316</td>\n",
       "      <td>-0.763105</td>\n",
       "      <td>-0.771139</td>\n",
       "      <td>-0.558044</td>\n",
       "      <td>0.179153</td>\n",
       "      <td>-0.414277</td>\n",
       "      <td>-0.022126</td>\n",
       "    </tr>\n",
       "    <tr>\n",
       "      <th>8</th>\n",
       "      <td>-1.650415</td>\n",
       "      <td>1.255424</td>\n",
       "      <td>0.661574</td>\n",
       "      <td>-0.545103</td>\n",
       "      <td>1.447353</td>\n",
       "      <td>1.229537</td>\n",
       "      <td>0.943541</td>\n",
       "      <td>-1.369584</td>\n",
       "      <td>-0.755308</td>\n",
       "      <td>-0.864874</td>\n",
       "      <td>-0.211316</td>\n",
       "      <td>-0.643586</td>\n",
       "      <td>0.939901</td>\n",
       "      <td>1.134038</td>\n",
       "      <td>0.179153</td>\n",
       "      <td>0.049998</td>\n",
       "      <td>-0.319995</td>\n",
       "    </tr>\n",
       "    <tr>\n",
       "      <th>9</th>\n",
       "      <td>-1.638473</td>\n",
       "      <td>-0.058343</td>\n",
       "      <td>0.224466</td>\n",
       "      <td>0.518057</td>\n",
       "      <td>-0.149981</td>\n",
       "      <td>0.648467</td>\n",
       "      <td>0.943541</td>\n",
       "      <td>0.513972</td>\n",
       "      <td>-0.733080</td>\n",
       "      <td>-0.578572</td>\n",
       "      <td>-0.223556</td>\n",
       "      <td>-0.104404</td>\n",
       "      <td>0.157442</td>\n",
       "      <td>-0.078202</td>\n",
       "      <td>0.179153</td>\n",
       "      <td>-0.225192</td>\n",
       "      <td>0.275743</td>\n",
       "    </tr>\n",
       "  </tbody>\n",
       "</table>\n",
       "</div>"
      ],
      "text/plain": [
       "   Unnamed: 0  artist_pop  track_pop  danceability    energy  loudness  \\\n",
       "0   -1.757897    1.255424   0.904412      0.421406  0.376200  0.886535   \n",
       "1   -1.745954    1.568225   1.390087     -1.463286  0.733251  0.326203   \n",
       "2   -1.734012   -0.058343   0.078763      0.939178  0.113110  0.818931   \n",
       "3   -1.722070    0.880062   0.418736      0.808009  0.802155  0.460998   \n",
       "4   -1.710127    0.004218   0.710142     -1.062875 -1.296302 -0.789485   \n",
       "5   -1.698185    1.005182   0.613006     -0.372512  1.516257  1.226219   \n",
       "6   -1.686242    1.005182   0.127331     -0.193017  1.165470  0.974049   \n",
       "7   -1.662358    0.880062   0.661574     -0.013523 -0.763858  0.288875   \n",
       "8   -1.650415    1.255424   0.661574     -0.545103  1.447353  1.229537   \n",
       "9   -1.638473   -0.058343   0.224466      0.518057 -0.149981  0.648467   \n",
       "\n",
       "       mode       key  speechiness  acousticness  instrumentalness  liveness  \\\n",
       "0 -1.055868  1.590290     0.144138      0.122196         -0.223493 -0.747828   \n",
       "1  0.943541 -1.100505    -0.643373     -0.913143         -0.221781 -0.754119   \n",
       "2  0.943541  0.513972    -0.709264      0.228672         -0.219668 -0.454872   \n",
       "3  0.943541  1.590290     1.533397     -0.819523         -0.223556 -0.697505   \n",
       "4  0.943541  1.321210    -0.779124      1.395963         -0.223472 -0.643586   \n",
       "5  0.943541  1.052131    -0.802939     -0.836086         -0.223556  1.342404   \n",
       "6  0.943541 -0.831425    -0.846602     -0.868029         -0.223454  0.371875   \n",
       "7  0.943541  0.783051    -0.883119     -0.847917         -0.223316 -0.763105   \n",
       "8  0.943541 -1.369584    -0.755308     -0.864874         -0.211316 -0.643586   \n",
       "9  0.943541  0.513972    -0.733080     -0.578572         -0.223556 -0.104404   \n",
       "\n",
       "    valence     tempo  time_signature  duration_ms  track_pop_minus_artist_pop  \n",
       "0  1.095450 -0.319253        0.179153     0.936270                   -0.071771  \n",
       "1 -1.002106  2.104298        0.179153     0.174922                    0.176453  \n",
       "2  1.387693  0.407937        0.179153     0.646538                    0.126808  \n",
       "3  0.628802  2.022683        0.179153    -0.720985                   -0.270350  \n",
       "4 -1.327345  0.037964        0.179153     0.195920                    0.722546  \n",
       "5  0.468540  0.168904        0.179153    -0.183899                   -0.171061  \n",
       "6 -0.921975 -0.117637        0.179153    -0.595558                   -0.667509  \n",
       "7 -0.771139 -0.558044        0.179153    -0.414277                   -0.022126  \n",
       "8  0.939901  1.134038        0.179153     0.049998                   -0.319995  \n",
       "9  0.157442 -0.078202        0.179153    -0.225192                    0.275743  "
      ]
     },
     "execution_count": 16,
     "metadata": {},
     "output_type": "execute_result"
    }
   ],
   "source": [
    "# Calculate Z-score and Get rid of outliers\n",
    "data1 = data.drop(['album'],axis=1)\n",
    "data1 = data1.drop(['artist_name'],axis=1)\n",
    "data1 = data1.drop(['track_name'],axis=1)\n",
    "Z = (data1-data1.mean())/data1.std()\n",
    "Z[0:10]"
   ]
  },
  {
   "cell_type": "code",
   "execution_count": 17,
   "id": "ZR8IVO3suDTZ",
   "metadata": {
    "colab": {
     "base_uri": "https://localhost:8080/",
     "height": 334
    },
    "id": "ZR8IVO3suDTZ",
    "outputId": "a799c1e0-8fed-41e5-b543-36f82cc748d5"
   },
   "outputs": [
    {
     "name": "stdout",
     "output_type": "stream",
     "text": [
      "Number of rows before discarding outliers = 267\n",
      "Number of rows after discarding outlying values = 6\n"
     ]
    },
    {
     "ename": "KeyError",
     "evalue": "\"None of [Index(['Latitude', 'Longitude'], dtype='object')] are in the [columns]\"",
     "output_type": "error",
     "traceback": [
      "\u001b[0;31m---------------------------------------------------------------------------\u001b[0m",
      "\u001b[0;31mKeyError\u001b[0m                                  Traceback (most recent call last)",
      "Input \u001b[0;32mIn [17]\u001b[0m, in \u001b[0;36m<cell line: 9>\u001b[0;34m()\u001b[0m\n\u001b[1;32m      7\u001b[0m col \u001b[38;5;241m=\u001b[39m \u001b[38;5;124m'\u001b[39m\u001b[38;5;124mtrack_pop\u001b[39m\u001b[38;5;124m'\u001b[39m\n\u001b[1;32m      8\u001b[0m cols_to_replace \u001b[38;5;241m=\u001b[39m [\u001b[38;5;124m'\u001b[39m\u001b[38;5;124mLatitude\u001b[39m\u001b[38;5;124m'\u001b[39m, \u001b[38;5;124m'\u001b[39m\u001b[38;5;124mLongitude\u001b[39m\u001b[38;5;124m'\u001b[39m]\n\u001b[0;32m----> 9\u001b[0m data\u001b[38;5;241m.\u001b[39mloc[data[col]\u001b[38;5;241m.\u001b[39misin(Z2[col]), cols_to_replace] \u001b[38;5;241m=\u001b[39m \u001b[43mZ2\u001b[49m\u001b[38;5;241;43m.\u001b[39;49m\u001b[43mloc\u001b[49m\u001b[43m[\u001b[49m\u001b[43mZ2\u001b[49m\u001b[43m[\u001b[49m\u001b[43mcol\u001b[49m\u001b[43m]\u001b[49m\u001b[38;5;241;43m.\u001b[39;49m\u001b[43misin\u001b[49m\u001b[43m(\u001b[49m\u001b[43mdata\u001b[49m\u001b[43m[\u001b[49m\u001b[43mcol\u001b[49m\u001b[43m]\u001b[49m\u001b[43m)\u001b[49m\u001b[43m,\u001b[49m\u001b[43mcols_to_replace\u001b[49m\u001b[43m]\u001b[49m\u001b[38;5;241m.\u001b[39mvalues\n\u001b[1;32m     10\u001b[0m data\u001b[38;5;241m.\u001b[39mhead()\n",
      "File \u001b[0;32m~/Library/Python/3.8/lib/python/site-packages/pandas/core/indexing.py:961\u001b[0m, in \u001b[0;36m_LocationIndexer.__getitem__\u001b[0;34m(self, key)\u001b[0m\n\u001b[1;32m    959\u001b[0m     \u001b[38;5;28;01mif\u001b[39;00m \u001b[38;5;28mself\u001b[39m\u001b[38;5;241m.\u001b[39m_is_scalar_access(key):\n\u001b[1;32m    960\u001b[0m         \u001b[38;5;28;01mreturn\u001b[39;00m \u001b[38;5;28mself\u001b[39m\u001b[38;5;241m.\u001b[39mobj\u001b[38;5;241m.\u001b[39m_get_value(\u001b[38;5;241m*\u001b[39mkey, takeable\u001b[38;5;241m=\u001b[39m\u001b[38;5;28mself\u001b[39m\u001b[38;5;241m.\u001b[39m_takeable)\n\u001b[0;32m--> 961\u001b[0m     \u001b[38;5;28;01mreturn\u001b[39;00m \u001b[38;5;28;43mself\u001b[39;49m\u001b[38;5;241;43m.\u001b[39;49m\u001b[43m_getitem_tuple\u001b[49m\u001b[43m(\u001b[49m\u001b[43mkey\u001b[49m\u001b[43m)\u001b[49m\n\u001b[1;32m    962\u001b[0m \u001b[38;5;28;01melse\u001b[39;00m:\n\u001b[1;32m    963\u001b[0m     \u001b[38;5;66;03m# we by definition only have the 0th axis\u001b[39;00m\n\u001b[1;32m    964\u001b[0m     axis \u001b[38;5;241m=\u001b[39m \u001b[38;5;28mself\u001b[39m\u001b[38;5;241m.\u001b[39maxis \u001b[38;5;129;01mor\u001b[39;00m \u001b[38;5;241m0\u001b[39m\n",
      "File \u001b[0;32m~/Library/Python/3.8/lib/python/site-packages/pandas/core/indexing.py:1149\u001b[0m, in \u001b[0;36m_LocIndexer._getitem_tuple\u001b[0;34m(self, tup)\u001b[0m\n\u001b[1;32m   1146\u001b[0m \u001b[38;5;28;01mif\u001b[39;00m \u001b[38;5;28mself\u001b[39m\u001b[38;5;241m.\u001b[39m_multi_take_opportunity(tup):\n\u001b[1;32m   1147\u001b[0m     \u001b[38;5;28;01mreturn\u001b[39;00m \u001b[38;5;28mself\u001b[39m\u001b[38;5;241m.\u001b[39m_multi_take(tup)\n\u001b[0;32m-> 1149\u001b[0m \u001b[38;5;28;01mreturn\u001b[39;00m \u001b[38;5;28;43mself\u001b[39;49m\u001b[38;5;241;43m.\u001b[39;49m\u001b[43m_getitem_tuple_same_dim\u001b[49m\u001b[43m(\u001b[49m\u001b[43mtup\u001b[49m\u001b[43m)\u001b[49m\n",
      "File \u001b[0;32m~/Library/Python/3.8/lib/python/site-packages/pandas/core/indexing.py:827\u001b[0m, in \u001b[0;36m_LocationIndexer._getitem_tuple_same_dim\u001b[0;34m(self, tup)\u001b[0m\n\u001b[1;32m    824\u001b[0m \u001b[38;5;28;01mif\u001b[39;00m com\u001b[38;5;241m.\u001b[39mis_null_slice(key):\n\u001b[1;32m    825\u001b[0m     \u001b[38;5;28;01mcontinue\u001b[39;00m\n\u001b[0;32m--> 827\u001b[0m retval \u001b[38;5;241m=\u001b[39m \u001b[38;5;28;43mgetattr\u001b[39;49m\u001b[43m(\u001b[49m\u001b[43mretval\u001b[49m\u001b[43m,\u001b[49m\u001b[43m \u001b[49m\u001b[38;5;28;43mself\u001b[39;49m\u001b[38;5;241;43m.\u001b[39;49m\u001b[43mname\u001b[49m\u001b[43m)\u001b[49m\u001b[38;5;241;43m.\u001b[39;49m\u001b[43m_getitem_axis\u001b[49m\u001b[43m(\u001b[49m\u001b[43mkey\u001b[49m\u001b[43m,\u001b[49m\u001b[43m \u001b[49m\u001b[43maxis\u001b[49m\u001b[38;5;241;43m=\u001b[39;49m\u001b[43mi\u001b[49m\u001b[43m)\u001b[49m\n\u001b[1;32m    828\u001b[0m \u001b[38;5;66;03m# We should never have retval.ndim < self.ndim, as that should\u001b[39;00m\n\u001b[1;32m    829\u001b[0m \u001b[38;5;66;03m#  be handled by the _getitem_lowerdim call above.\u001b[39;00m\n\u001b[1;32m    830\u001b[0m \u001b[38;5;28;01massert\u001b[39;00m retval\u001b[38;5;241m.\u001b[39mndim \u001b[38;5;241m==\u001b[39m \u001b[38;5;28mself\u001b[39m\u001b[38;5;241m.\u001b[39mndim\n",
      "File \u001b[0;32m~/Library/Python/3.8/lib/python/site-packages/pandas/core/indexing.py:1191\u001b[0m, in \u001b[0;36m_LocIndexer._getitem_axis\u001b[0;34m(self, key, axis)\u001b[0m\n\u001b[1;32m   1188\u001b[0m     \u001b[38;5;28;01mif\u001b[39;00m \u001b[38;5;28mhasattr\u001b[39m(key, \u001b[38;5;124m\"\u001b[39m\u001b[38;5;124mndim\u001b[39m\u001b[38;5;124m\"\u001b[39m) \u001b[38;5;129;01mand\u001b[39;00m key\u001b[38;5;241m.\u001b[39mndim \u001b[38;5;241m>\u001b[39m \u001b[38;5;241m1\u001b[39m:\n\u001b[1;32m   1189\u001b[0m         \u001b[38;5;28;01mraise\u001b[39;00m \u001b[38;5;167;01mValueError\u001b[39;00m(\u001b[38;5;124m\"\u001b[39m\u001b[38;5;124mCannot index with multidimensional key\u001b[39m\u001b[38;5;124m\"\u001b[39m)\n\u001b[0;32m-> 1191\u001b[0m     \u001b[38;5;28;01mreturn\u001b[39;00m \u001b[38;5;28;43mself\u001b[39;49m\u001b[38;5;241;43m.\u001b[39;49m\u001b[43m_getitem_iterable\u001b[49m\u001b[43m(\u001b[49m\u001b[43mkey\u001b[49m\u001b[43m,\u001b[49m\u001b[43m \u001b[49m\u001b[43maxis\u001b[49m\u001b[38;5;241;43m=\u001b[39;49m\u001b[43maxis\u001b[49m\u001b[43m)\u001b[49m\n\u001b[1;32m   1193\u001b[0m \u001b[38;5;66;03m# nested tuple slicing\u001b[39;00m\n\u001b[1;32m   1194\u001b[0m \u001b[38;5;28;01mif\u001b[39;00m is_nested_tuple(key, labels):\n",
      "File \u001b[0;32m~/Library/Python/3.8/lib/python/site-packages/pandas/core/indexing.py:1132\u001b[0m, in \u001b[0;36m_LocIndexer._getitem_iterable\u001b[0;34m(self, key, axis)\u001b[0m\n\u001b[1;32m   1129\u001b[0m \u001b[38;5;28mself\u001b[39m\u001b[38;5;241m.\u001b[39m_validate_key(key, axis)\n\u001b[1;32m   1131\u001b[0m \u001b[38;5;66;03m# A collection of keys\u001b[39;00m\n\u001b[0;32m-> 1132\u001b[0m keyarr, indexer \u001b[38;5;241m=\u001b[39m \u001b[38;5;28;43mself\u001b[39;49m\u001b[38;5;241;43m.\u001b[39;49m\u001b[43m_get_listlike_indexer\u001b[49m\u001b[43m(\u001b[49m\u001b[43mkey\u001b[49m\u001b[43m,\u001b[49m\u001b[43m \u001b[49m\u001b[43maxis\u001b[49m\u001b[43m)\u001b[49m\n\u001b[1;32m   1133\u001b[0m \u001b[38;5;28;01mreturn\u001b[39;00m \u001b[38;5;28mself\u001b[39m\u001b[38;5;241m.\u001b[39mobj\u001b[38;5;241m.\u001b[39m_reindex_with_indexers(\n\u001b[1;32m   1134\u001b[0m     {axis: [keyarr, indexer]}, copy\u001b[38;5;241m=\u001b[39m\u001b[38;5;28;01mTrue\u001b[39;00m, allow_dups\u001b[38;5;241m=\u001b[39m\u001b[38;5;28;01mTrue\u001b[39;00m\n\u001b[1;32m   1135\u001b[0m )\n",
      "File \u001b[0;32m~/Library/Python/3.8/lib/python/site-packages/pandas/core/indexing.py:1327\u001b[0m, in \u001b[0;36m_LocIndexer._get_listlike_indexer\u001b[0;34m(self, key, axis)\u001b[0m\n\u001b[1;32m   1324\u001b[0m ax \u001b[38;5;241m=\u001b[39m \u001b[38;5;28mself\u001b[39m\u001b[38;5;241m.\u001b[39mobj\u001b[38;5;241m.\u001b[39m_get_axis(axis)\n\u001b[1;32m   1325\u001b[0m axis_name \u001b[38;5;241m=\u001b[39m \u001b[38;5;28mself\u001b[39m\u001b[38;5;241m.\u001b[39mobj\u001b[38;5;241m.\u001b[39m_get_axis_name(axis)\n\u001b[0;32m-> 1327\u001b[0m keyarr, indexer \u001b[38;5;241m=\u001b[39m \u001b[43max\u001b[49m\u001b[38;5;241;43m.\u001b[39;49m\u001b[43m_get_indexer_strict\u001b[49m\u001b[43m(\u001b[49m\u001b[43mkey\u001b[49m\u001b[43m,\u001b[49m\u001b[43m \u001b[49m\u001b[43maxis_name\u001b[49m\u001b[43m)\u001b[49m\n\u001b[1;32m   1329\u001b[0m \u001b[38;5;28;01mreturn\u001b[39;00m keyarr, indexer\n",
      "File \u001b[0;32m~/Library/Python/3.8/lib/python/site-packages/pandas/core/indexes/base.py:5782\u001b[0m, in \u001b[0;36mIndex._get_indexer_strict\u001b[0;34m(self, key, axis_name)\u001b[0m\n\u001b[1;32m   5779\u001b[0m \u001b[38;5;28;01melse\u001b[39;00m:\n\u001b[1;32m   5780\u001b[0m     keyarr, indexer, new_indexer \u001b[38;5;241m=\u001b[39m \u001b[38;5;28mself\u001b[39m\u001b[38;5;241m.\u001b[39m_reindex_non_unique(keyarr)\n\u001b[0;32m-> 5782\u001b[0m \u001b[38;5;28;43mself\u001b[39;49m\u001b[38;5;241;43m.\u001b[39;49m\u001b[43m_raise_if_missing\u001b[49m\u001b[43m(\u001b[49m\u001b[43mkeyarr\u001b[49m\u001b[43m,\u001b[49m\u001b[43m \u001b[49m\u001b[43mindexer\u001b[49m\u001b[43m,\u001b[49m\u001b[43m \u001b[49m\u001b[43maxis_name\u001b[49m\u001b[43m)\u001b[49m\n\u001b[1;32m   5784\u001b[0m keyarr \u001b[38;5;241m=\u001b[39m \u001b[38;5;28mself\u001b[39m\u001b[38;5;241m.\u001b[39mtake(indexer)\n\u001b[1;32m   5785\u001b[0m \u001b[38;5;28;01mif\u001b[39;00m \u001b[38;5;28misinstance\u001b[39m(key, Index):\n\u001b[1;32m   5786\u001b[0m     \u001b[38;5;66;03m# GH 42790 - Preserve name from an Index\u001b[39;00m\n",
      "File \u001b[0;32m~/Library/Python/3.8/lib/python/site-packages/pandas/core/indexes/base.py:5842\u001b[0m, in \u001b[0;36mIndex._raise_if_missing\u001b[0;34m(self, key, indexer, axis_name)\u001b[0m\n\u001b[1;32m   5840\u001b[0m     \u001b[38;5;28;01mif\u001b[39;00m use_interval_msg:\n\u001b[1;32m   5841\u001b[0m         key \u001b[38;5;241m=\u001b[39m \u001b[38;5;28mlist\u001b[39m(key)\n\u001b[0;32m-> 5842\u001b[0m     \u001b[38;5;28;01mraise\u001b[39;00m \u001b[38;5;167;01mKeyError\u001b[39;00m(\u001b[38;5;124mf\u001b[39m\u001b[38;5;124m\"\u001b[39m\u001b[38;5;124mNone of [\u001b[39m\u001b[38;5;132;01m{\u001b[39;00mkey\u001b[38;5;132;01m}\u001b[39;00m\u001b[38;5;124m] are in the [\u001b[39m\u001b[38;5;132;01m{\u001b[39;00maxis_name\u001b[38;5;132;01m}\u001b[39;00m\u001b[38;5;124m]\u001b[39m\u001b[38;5;124m\"\u001b[39m)\n\u001b[1;32m   5844\u001b[0m not_found \u001b[38;5;241m=\u001b[39m \u001b[38;5;28mlist\u001b[39m(ensure_index(key)[missing_mask\u001b[38;5;241m.\u001b[39mnonzero()[\u001b[38;5;241m0\u001b[39m]]\u001b[38;5;241m.\u001b[39munique())\n\u001b[1;32m   5845\u001b[0m \u001b[38;5;28;01mraise\u001b[39;00m \u001b[38;5;167;01mKeyError\u001b[39;00m(\u001b[38;5;124mf\u001b[39m\u001b[38;5;124m\"\u001b[39m\u001b[38;5;132;01m{\u001b[39;00mnot_found\u001b[38;5;132;01m}\u001b[39;00m\u001b[38;5;124m not in index\u001b[39m\u001b[38;5;124m\"\u001b[39m)\n",
      "\u001b[0;31mKeyError\u001b[0m: \"None of [Index(['Latitude', 'Longitude'], dtype='object')] are in the [columns]\""
     ]
    }
   ],
   "source": [
    "#Discard values with Z <= -3 or Z > 3\n",
    "print('Number of rows before discarding outliers = %d' % (Z.shape[0]))\n",
    "\n",
    "Z2 = Z.loc[((Z > -3).sum(axis=1)==16) & ((Z <= 3).sum(axis=1)==16),:]\n",
    "print('Number of rows after discarding outlying values = %d' % (Z2.shape[0]))\n",
    "\n",
    "col = 'track_pop'\n",
    "cols_to_replace = ['Latitude', 'Longitude']\n",
    "data.loc[data[col].isin(Z2[col]), cols_to_replace] = Z2.loc[Z2[col].isin(data[col]),cols_to_replace].values\n",
    "data.head()\n"
   ]
  },
  {
   "cell_type": "markdown",
   "id": "2epXfGFpFAoZ",
   "metadata": {
    "id": "2epXfGFpFAoZ"
   },
   "source": [
    "**Deal with Duplicated data**"
   ]
  },
  {
   "cell_type": "code",
   "execution_count": 18,
   "id": "J8mDLcuP3Qbe",
   "metadata": {
    "colab": {
     "base_uri": "https://localhost:8080/"
    },
    "id": "J8mDLcuP3Qbe",
    "outputId": "3ca47419-f701-4ed7-d25c-16c86653812f"
   },
   "outputs": [
    {
     "name": "stdout",
     "output_type": "stream",
     "text": [
      "Number of duplicate rows = 0\n"
     ]
    }
   ],
   "source": [
    "#Duplicate data\n",
    "dups = data.duplicated()\n",
    "print('Number of duplicate rows = %d' % (dups.sum()))"
   ]
  },
  {
   "cell_type": "code",
   "execution_count": 19,
   "id": "Vseb5WeE3hf6",
   "metadata": {
    "colab": {
     "base_uri": "https://localhost:8080/"
    },
    "id": "Vseb5WeE3hf6",
    "outputId": "2c65386f-f665-4501-c82e-81be431f41fe"
   },
   "outputs": [
    {
     "name": "stdout",
     "output_type": "stream",
     "text": [
      "Number of rows before discarding duplicates = 267\n",
      "Number of rows after discarding duplicates = 267\n"
     ]
    }
   ],
   "source": [
    "print('Number of rows before discarding duplicates = %d' % (data.shape[0]))\n",
    "data = data.drop_duplicates()\n",
    "print('Number of rows after discarding duplicates = %d' % (data.shape[0]))"
   ]
  },
  {
   "cell_type": "markdown",
   "id": "lbA9JxLiDeT_",
   "metadata": {
    "id": "lbA9JxLiDeT_"
   },
   "source": [
    "**Aggregation**"
   ]
  },
  {
   "cell_type": "code",
   "execution_count": 20,
   "id": "3uTqnSZc5ZA5",
   "metadata": {
    "colab": {
     "base_uri": "https://localhost:8080/",
     "height": 511
    },
    "id": "3uTqnSZc5ZA5",
    "outputId": "0ed02d19-dd49-4f8a-def0-830e97df301f"
   },
   "outputs": [
    {
     "name": "stdout",
     "output_type": "stream",
     "text": [
      "Number of observations: 214\n"
     ]
    },
    {
     "data": {
      "text/html": [
       "<div>\n",
       "<style scoped>\n",
       "    .dataframe tbody tr th:only-of-type {\n",
       "        vertical-align: middle;\n",
       "    }\n",
       "\n",
       "    .dataframe tbody tr th {\n",
       "        vertical-align: top;\n",
       "    }\n",
       "\n",
       "    .dataframe thead th {\n",
       "        text-align: right;\n",
       "    }\n",
       "</style>\n",
       "<table border=\"1\" class=\"dataframe\">\n",
       "  <thead>\n",
       "    <tr style=\"text-align: right;\">\n",
       "      <th></th>\n",
       "      <th>Unnamed: 0</th>\n",
       "      <th>artist_pop</th>\n",
       "      <th>track_pop</th>\n",
       "      <th>danceability</th>\n",
       "      <th>energy</th>\n",
       "      <th>loudness</th>\n",
       "      <th>mode</th>\n",
       "      <th>key</th>\n",
       "      <th>speechiness</th>\n",
       "      <th>acousticness</th>\n",
       "      <th>instrumentalness</th>\n",
       "      <th>liveness</th>\n",
       "      <th>valence</th>\n",
       "      <th>tempo</th>\n",
       "      <th>time_signature</th>\n",
       "      <th>duration_ms</th>\n",
       "      <th>track_pop_minus_artist_pop</th>\n",
       "    </tr>\n",
       "    <tr>\n",
       "      <th>artist_name</th>\n",
       "      <th></th>\n",
       "      <th></th>\n",
       "      <th></th>\n",
       "      <th></th>\n",
       "      <th></th>\n",
       "      <th></th>\n",
       "      <th></th>\n",
       "      <th></th>\n",
       "      <th></th>\n",
       "      <th></th>\n",
       "      <th></th>\n",
       "      <th></th>\n",
       "      <th></th>\n",
       "      <th></th>\n",
       "      <th></th>\n",
       "      <th></th>\n",
       "      <th></th>\n",
       "    </tr>\n",
       "  </thead>\n",
       "  <tbody>\n",
       "    <tr>\n",
       "      <th>24kGoldn</th>\n",
       "      <td>140.333333</td>\n",
       "      <td>0.0074</td>\n",
       "      <td>0.007567</td>\n",
       "      <td>0.7110</td>\n",
       "      <td>0.6580</td>\n",
       "      <td>-4.501667</td>\n",
       "      <td>0.0</td>\n",
       "      <td>5.333333</td>\n",
       "      <td>0.088133</td>\n",
       "      <td>0.138333</td>\n",
       "      <td>0.000000</td>\n",
       "      <td>0.1745</td>\n",
       "      <td>0.659667</td>\n",
       "      <td>120.684333</td>\n",
       "      <td>4.0</td>\n",
       "      <td>144053.0</td>\n",
       "      <td>0.000167</td>\n",
       "    </tr>\n",
       "    <tr>\n",
       "      <th>347aidan</th>\n",
       "      <td>203.000000</td>\n",
       "      <td>0.0070</td>\n",
       "      <td>0.007500</td>\n",
       "      <td>0.9800</td>\n",
       "      <td>0.4130</td>\n",
       "      <td>-11.052000</td>\n",
       "      <td>0.0</td>\n",
       "      <td>8.000000</td>\n",
       "      <td>0.101000</td>\n",
       "      <td>0.671000</td>\n",
       "      <td>0.000079</td>\n",
       "      <td>0.1700</td>\n",
       "      <td>0.764000</td>\n",
       "      <td>119.993000</td>\n",
       "      <td>4.0</td>\n",
       "      <td>180139.0</td>\n",
       "      <td>0.000500</td>\n",
       "    </tr>\n",
       "    <tr>\n",
       "      <th>50 Cent</th>\n",
       "      <td>239.000000</td>\n",
       "      <td>0.0082</td>\n",
       "      <td>0.007300</td>\n",
       "      <td>0.9250</td>\n",
       "      <td>0.6590</td>\n",
       "      <td>-4.763000</td>\n",
       "      <td>1.0</td>\n",
       "      <td>3.000000</td>\n",
       "      <td>0.231000</td>\n",
       "      <td>0.206000</td>\n",
       "      <td>0.000079</td>\n",
       "      <td>0.2790</td>\n",
       "      <td>0.710000</td>\n",
       "      <td>97.018000</td>\n",
       "      <td>4.0</td>\n",
       "      <td>214227.0</td>\n",
       "      <td>-0.000900</td>\n",
       "    </tr>\n",
       "    <tr>\n",
       "      <th>6ix9ine</th>\n",
       "      <td>159.500000</td>\n",
       "      <td>0.0071</td>\n",
       "      <td>0.000600</td>\n",
       "      <td>0.6775</td>\n",
       "      <td>0.5550</td>\n",
       "      <td>-7.317000</td>\n",
       "      <td>1.0</td>\n",
       "      <td>1.000000</td>\n",
       "      <td>0.317500</td>\n",
       "      <td>0.029150</td>\n",
       "      <td>0.000055</td>\n",
       "      <td>0.1805</td>\n",
       "      <td>0.443000</td>\n",
       "      <td>179.234000</td>\n",
       "      <td>4.0</td>\n",
       "      <td>167485.0</td>\n",
       "      <td>-0.006500</td>\n",
       "    </tr>\n",
       "    <tr>\n",
       "      <th>ABBA</th>\n",
       "      <td>166.000000</td>\n",
       "      <td>0.0080</td>\n",
       "      <td>0.007200</td>\n",
       "      <td>0.6950</td>\n",
       "      <td>0.7010</td>\n",
       "      <td>-6.435000</td>\n",
       "      <td>1.0</td>\n",
       "      <td>0.000000</td>\n",
       "      <td>0.028100</td>\n",
       "      <td>0.018700</td>\n",
       "      <td>0.046400</td>\n",
       "      <td>0.2510</td>\n",
       "      <td>0.580000</td>\n",
       "      <td>133.000000</td>\n",
       "      <td>4.0</td>\n",
       "      <td>272507.0</td>\n",
       "      <td>-0.000800</td>\n",
       "    </tr>\n",
       "    <tr>\n",
       "      <th>Absofacto</th>\n",
       "      <td>18.000000</td>\n",
       "      <td>0.0056</td>\n",
       "      <td>0.006800</td>\n",
       "      <td>0.6880</td>\n",
       "      <td>0.5820</td>\n",
       "      <td>-10.668000</td>\n",
       "      <td>0.0</td>\n",
       "      <td>6.000000</td>\n",
       "      <td>0.054200</td>\n",
       "      <td>0.230000</td>\n",
       "      <td>0.000157</td>\n",
       "      <td>0.0663</td>\n",
       "      <td>0.872000</td>\n",
       "      <td>85.486000</td>\n",
       "      <td>4.0</td>\n",
       "      <td>224661.0</td>\n",
       "      <td>0.001200</td>\n",
       "    </tr>\n",
       "    <tr>\n",
       "      <th>Akon</th>\n",
       "      <td>280.000000</td>\n",
       "      <td>0.0079</td>\n",
       "      <td>0.006400</td>\n",
       "      <td>0.8630</td>\n",
       "      <td>0.5010</td>\n",
       "      <td>-8.753000</td>\n",
       "      <td>0.0</td>\n",
       "      <td>9.000000</td>\n",
       "      <td>0.043300</td>\n",
       "      <td>0.016400</td>\n",
       "      <td>0.000000</td>\n",
       "      <td>0.2720</td>\n",
       "      <td>0.357000</td>\n",
       "      <td>99.994000</td>\n",
       "      <td>4.0</td>\n",
       "      <td>246765.0</td>\n",
       "      <td>-0.001500</td>\n",
       "    </tr>\n",
       "    <tr>\n",
       "      <th>Ant Saunders</th>\n",
       "      <td>170.500000</td>\n",
       "      <td>0.0052</td>\n",
       "      <td>0.006150</td>\n",
       "      <td>0.8410</td>\n",
       "      <td>0.4195</td>\n",
       "      <td>-8.492000</td>\n",
       "      <td>1.0</td>\n",
       "      <td>7.000000</td>\n",
       "      <td>0.145950</td>\n",
       "      <td>0.320500</td>\n",
       "      <td>0.000000</td>\n",
       "      <td>0.0700</td>\n",
       "      <td>0.686500</td>\n",
       "      <td>129.040000</td>\n",
       "      <td>4.0</td>\n",
       "      <td>201965.0</td>\n",
       "      <td>0.000950</td>\n",
       "    </tr>\n",
       "    <tr>\n",
       "      <th>Ariana Grande</th>\n",
       "      <td>12.000000</td>\n",
       "      <td>0.0087</td>\n",
       "      <td>0.008200</td>\n",
       "      <td>0.5970</td>\n",
       "      <td>0.4500</td>\n",
       "      <td>-6.658000</td>\n",
       "      <td>1.0</td>\n",
       "      <td>8.000000</td>\n",
       "      <td>0.041800</td>\n",
       "      <td>0.223000</td>\n",
       "      <td>0.000000</td>\n",
       "      <td>0.3820</td>\n",
       "      <td>0.537000</td>\n",
       "      <td>178.765000</td>\n",
       "      <td>3.0</td>\n",
       "      <td>228482.0</td>\n",
       "      <td>-0.000500</td>\n",
       "    </tr>\n",
       "    <tr>\n",
       "      <th>Arizona Zervas</th>\n",
       "      <td>48.000000</td>\n",
       "      <td>0.0066</td>\n",
       "      <td>0.000000</td>\n",
       "      <td>0.8160</td>\n",
       "      <td>0.5900</td>\n",
       "      <td>-5.961000</td>\n",
       "      <td>0.0</td>\n",
       "      <td>2.000000</td>\n",
       "      <td>0.121000</td>\n",
       "      <td>0.085400</td>\n",
       "      <td>0.000000</td>\n",
       "      <td>0.1080</td>\n",
       "      <td>0.612000</td>\n",
       "      <td>100.137000</td>\n",
       "      <td>4.0</td>\n",
       "      <td>222961.0</td>\n",
       "      <td>-0.006600</td>\n",
       "    </tr>\n",
       "  </tbody>\n",
       "</table>\n",
       "</div>"
      ],
      "text/plain": [
       "                Unnamed: 0  artist_pop  track_pop  danceability  energy  \\\n",
       "artist_name                                                               \n",
       "24kGoldn        140.333333      0.0074   0.007567        0.7110  0.6580   \n",
       "347aidan        203.000000      0.0070   0.007500        0.9800  0.4130   \n",
       "50 Cent         239.000000      0.0082   0.007300        0.9250  0.6590   \n",
       "6ix9ine         159.500000      0.0071   0.000600        0.6775  0.5550   \n",
       "ABBA            166.000000      0.0080   0.007200        0.6950  0.7010   \n",
       "Absofacto        18.000000      0.0056   0.006800        0.6880  0.5820   \n",
       "Akon            280.000000      0.0079   0.006400        0.8630  0.5010   \n",
       "Ant Saunders    170.500000      0.0052   0.006150        0.8410  0.4195   \n",
       "Ariana Grande    12.000000      0.0087   0.008200        0.5970  0.4500   \n",
       "Arizona Zervas   48.000000      0.0066   0.000000        0.8160  0.5900   \n",
       "\n",
       "                 loudness  mode       key  speechiness  acousticness  \\\n",
       "artist_name                                                            \n",
       "24kGoldn        -4.501667   0.0  5.333333     0.088133      0.138333   \n",
       "347aidan       -11.052000   0.0  8.000000     0.101000      0.671000   \n",
       "50 Cent         -4.763000   1.0  3.000000     0.231000      0.206000   \n",
       "6ix9ine         -7.317000   1.0  1.000000     0.317500      0.029150   \n",
       "ABBA            -6.435000   1.0  0.000000     0.028100      0.018700   \n",
       "Absofacto      -10.668000   0.0  6.000000     0.054200      0.230000   \n",
       "Akon            -8.753000   0.0  9.000000     0.043300      0.016400   \n",
       "Ant Saunders    -8.492000   1.0  7.000000     0.145950      0.320500   \n",
       "Ariana Grande   -6.658000   1.0  8.000000     0.041800      0.223000   \n",
       "Arizona Zervas  -5.961000   0.0  2.000000     0.121000      0.085400   \n",
       "\n",
       "                instrumentalness  liveness   valence       tempo  \\\n",
       "artist_name                                                        \n",
       "24kGoldn                0.000000    0.1745  0.659667  120.684333   \n",
       "347aidan                0.000079    0.1700  0.764000  119.993000   \n",
       "50 Cent                 0.000079    0.2790  0.710000   97.018000   \n",
       "6ix9ine                 0.000055    0.1805  0.443000  179.234000   \n",
       "ABBA                    0.046400    0.2510  0.580000  133.000000   \n",
       "Absofacto               0.000157    0.0663  0.872000   85.486000   \n",
       "Akon                    0.000000    0.2720  0.357000   99.994000   \n",
       "Ant Saunders            0.000000    0.0700  0.686500  129.040000   \n",
       "Ariana Grande           0.000000    0.3820  0.537000  178.765000   \n",
       "Arizona Zervas          0.000000    0.1080  0.612000  100.137000   \n",
       "\n",
       "                time_signature  duration_ms  track_pop_minus_artist_pop  \n",
       "artist_name                                                              \n",
       "24kGoldn                   4.0     144053.0                    0.000167  \n",
       "347aidan                   4.0     180139.0                    0.000500  \n",
       "50 Cent                    4.0     214227.0                   -0.000900  \n",
       "6ix9ine                    4.0     167485.0                   -0.006500  \n",
       "ABBA                       4.0     272507.0                   -0.000800  \n",
       "Absofacto                  4.0     224661.0                    0.001200  \n",
       "Akon                       4.0     246765.0                   -0.001500  \n",
       "Ant Saunders               4.0     201965.0                    0.000950  \n",
       "Ariana Grande              3.0     228482.0                   -0.000500  \n",
       "Arizona Zervas             4.0     222961.0                   -0.006600  "
      ]
     },
     "execution_count": 20,
     "metadata": {},
     "output_type": "execute_result"
    }
   ],
   "source": [
    "#Aggregation on artist_name\n",
    "artists = data.groupby([\"artist_name\"]).mean()\n",
    "print(F\"Number of observations: {artists.shape[0]}\")\n",
    "artists.head(10)"
   ]
  },
  {
   "cell_type": "markdown",
   "id": "Q2IPqKFwDVc0",
   "metadata": {
    "id": "Q2IPqKFwDVc0"
   },
   "source": [
    "**Sampling**"
   ]
  },
  {
   "cell_type": "code",
   "execution_count": 21,
   "id": "czZfWhBDCESa",
   "metadata": {
    "colab": {
     "base_uri": "https://localhost:8080/",
     "height": 392
    },
    "id": "czZfWhBDCESa",
    "outputId": "1ba9367b-2ea9-4f24-c3c6-c0559a138fa7"
   },
   "outputs": [
    {
     "data": {
      "text/html": [
       "<div>\n",
       "<style scoped>\n",
       "    .dataframe tbody tr th:only-of-type {\n",
       "        vertical-align: middle;\n",
       "    }\n",
       "\n",
       "    .dataframe tbody tr th {\n",
       "        vertical-align: top;\n",
       "    }\n",
       "\n",
       "    .dataframe thead th {\n",
       "        text-align: right;\n",
       "    }\n",
       "</style>\n",
       "<table border=\"1\" class=\"dataframe\">\n",
       "  <thead>\n",
       "    <tr style=\"text-align: right;\">\n",
       "      <th></th>\n",
       "      <th>Unnamed: 0</th>\n",
       "      <th>track_name</th>\n",
       "      <th>artist_name</th>\n",
       "      <th>artist_pop</th>\n",
       "      <th>album</th>\n",
       "      <th>track_pop</th>\n",
       "      <th>danceability</th>\n",
       "      <th>energy</th>\n",
       "      <th>loudness</th>\n",
       "      <th>mode</th>\n",
       "      <th>key</th>\n",
       "      <th>speechiness</th>\n",
       "      <th>acousticness</th>\n",
       "      <th>instrumentalness</th>\n",
       "      <th>liveness</th>\n",
       "      <th>valence</th>\n",
       "      <th>tempo</th>\n",
       "      <th>time_signature</th>\n",
       "      <th>duration_ms</th>\n",
       "      <th>track_pop_minus_artist_pop</th>\n",
       "    </tr>\n",
       "  </thead>\n",
       "  <tbody>\n",
       "    <tr>\n",
       "      <th>0</th>\n",
       "      <td>0</td>\n",
       "      <td>Say So</td>\n",
       "      <td>Doja Cat</td>\n",
       "      <td>0.0088</td>\n",
       "      <td>Hot Pink</td>\n",
       "      <td>0.0080</td>\n",
       "      <td>0.787</td>\n",
       "      <td>0.673</td>\n",
       "      <td>-4.583</td>\n",
       "      <td>0</td>\n",
       "      <td>11</td>\n",
       "      <td>0.1590</td>\n",
       "      <td>0.26400</td>\n",
       "      <td>0.000003</td>\n",
       "      <td>0.0904</td>\n",
       "      <td>0.779</td>\n",
       "      <td>110.962</td>\n",
       "      <td>4</td>\n",
       "      <td>237893</td>\n",
       "      <td>-0.0008</td>\n",
       "    </tr>\n",
       "    <tr>\n",
       "      <th>1</th>\n",
       "      <td>1</td>\n",
       "      <td>Blinding Lights</td>\n",
       "      <td>The Weeknd</td>\n",
       "      <td>0.0093</td>\n",
       "      <td>After Hours</td>\n",
       "      <td>0.0090</td>\n",
       "      <td>0.514</td>\n",
       "      <td>0.730</td>\n",
       "      <td>-5.934</td>\n",
       "      <td>1</td>\n",
       "      <td>1</td>\n",
       "      <td>0.0598</td>\n",
       "      <td>0.00146</td>\n",
       "      <td>0.000095</td>\n",
       "      <td>0.0897</td>\n",
       "      <td>0.334</td>\n",
       "      <td>171.005</td>\n",
       "      <td>4</td>\n",
       "      <td>200040</td>\n",
       "      <td>-0.0003</td>\n",
       "    </tr>\n",
       "    <tr>\n",
       "      <th>2</th>\n",
       "      <td>2</td>\n",
       "      <td>Supalonely (feat. Gus Dapperton)</td>\n",
       "      <td>BENEE</td>\n",
       "      <td>0.0067</td>\n",
       "      <td>Hey u x</td>\n",
       "      <td>0.0063</td>\n",
       "      <td>0.862</td>\n",
       "      <td>0.631</td>\n",
       "      <td>-4.746</td>\n",
       "      <td>1</td>\n",
       "      <td>7</td>\n",
       "      <td>0.0515</td>\n",
       "      <td>0.29100</td>\n",
       "      <td>0.000209</td>\n",
       "      <td>0.1230</td>\n",
       "      <td>0.841</td>\n",
       "      <td>128.978</td>\n",
       "      <td>4</td>\n",
       "      <td>223488</td>\n",
       "      <td>-0.0004</td>\n",
       "    </tr>\n",
       "    <tr>\n",
       "      <th>3</th>\n",
       "      <td>3</td>\n",
       "      <td>Savage</td>\n",
       "      <td>Megan Thee Stallion</td>\n",
       "      <td>0.0082</td>\n",
       "      <td>Suga</td>\n",
       "      <td>0.0070</td>\n",
       "      <td>0.843</td>\n",
       "      <td>0.741</td>\n",
       "      <td>-5.609</td>\n",
       "      <td>1</td>\n",
       "      <td>11</td>\n",
       "      <td>0.3340</td>\n",
       "      <td>0.02520</td>\n",
       "      <td>0.000000</td>\n",
       "      <td>0.0960</td>\n",
       "      <td>0.680</td>\n",
       "      <td>168.983</td>\n",
       "      <td>4</td>\n",
       "      <td>155497</td>\n",
       "      <td>-0.0012</td>\n",
       "    </tr>\n",
       "    <tr>\n",
       "      <th>4</th>\n",
       "      <td>4</td>\n",
       "      <td>Moral of the Story</td>\n",
       "      <td>Ashe</td>\n",
       "      <td>0.0068</td>\n",
       "      <td>Moral of the Story</td>\n",
       "      <td>0.0076</td>\n",
       "      <td>0.572</td>\n",
       "      <td>0.406</td>\n",
       "      <td>-8.624</td>\n",
       "      <td>1</td>\n",
       "      <td>10</td>\n",
       "      <td>0.0427</td>\n",
       "      <td>0.58700</td>\n",
       "      <td>0.000004</td>\n",
       "      <td>0.1020</td>\n",
       "      <td>0.265</td>\n",
       "      <td>119.812</td>\n",
       "      <td>4</td>\n",
       "      <td>201084</td>\n",
       "      <td>0.0008</td>\n",
       "    </tr>\n",
       "  </tbody>\n",
       "</table>\n",
       "</div>"
      ],
      "text/plain": [
       "   Unnamed: 0                        track_name          artist_name  \\\n",
       "0           0                            Say So             Doja Cat   \n",
       "1           1                   Blinding Lights           The Weeknd   \n",
       "2           2  Supalonely (feat. Gus Dapperton)                BENEE   \n",
       "3           3                            Savage  Megan Thee Stallion   \n",
       "4           4                Moral of the Story                 Ashe   \n",
       "\n",
       "   artist_pop               album  track_pop  danceability  energy  loudness  \\\n",
       "0      0.0088            Hot Pink     0.0080         0.787   0.673    -4.583   \n",
       "1      0.0093         After Hours     0.0090         0.514   0.730    -5.934   \n",
       "2      0.0067             Hey u x     0.0063         0.862   0.631    -4.746   \n",
       "3      0.0082                Suga     0.0070         0.843   0.741    -5.609   \n",
       "4      0.0068  Moral of the Story     0.0076         0.572   0.406    -8.624   \n",
       "\n",
       "   mode  key  speechiness  acousticness  instrumentalness  liveness  valence  \\\n",
       "0     0   11       0.1590       0.26400          0.000003    0.0904    0.779   \n",
       "1     1    1       0.0598       0.00146          0.000095    0.0897    0.334   \n",
       "2     1    7       0.0515       0.29100          0.000209    0.1230    0.841   \n",
       "3     1   11       0.3340       0.02520          0.000000    0.0960    0.680   \n",
       "4     1   10       0.0427       0.58700          0.000004    0.1020    0.265   \n",
       "\n",
       "     tempo  time_signature  duration_ms  track_pop_minus_artist_pop  \n",
       "0  110.962               4       237893                     -0.0008  \n",
       "1  171.005               4       200040                     -0.0003  \n",
       "2  128.978               4       223488                     -0.0004  \n",
       "3  168.983               4       155497                     -0.0012  \n",
       "4  119.812               4       201084                      0.0008  "
      ]
     },
     "execution_count": 21,
     "metadata": {},
     "output_type": "execute_result"
    }
   ],
   "source": [
    "data.head()"
   ]
  },
  {
   "cell_type": "code",
   "execution_count": 22,
   "id": "GhHMOMHjCoAG",
   "metadata": {
    "colab": {
     "base_uri": "https://localhost:8080/",
     "height": 242
    },
    "id": "GhHMOMHjCoAG",
    "outputId": "de0ac6d4-632b-497a-d5ad-2941562245cd"
   },
   "outputs": [
    {
     "data": {
      "text/html": [
       "<div>\n",
       "<style scoped>\n",
       "    .dataframe tbody tr th:only-of-type {\n",
       "        vertical-align: middle;\n",
       "    }\n",
       "\n",
       "    .dataframe tbody tr th {\n",
       "        vertical-align: top;\n",
       "    }\n",
       "\n",
       "    .dataframe thead th {\n",
       "        text-align: right;\n",
       "    }\n",
       "</style>\n",
       "<table border=\"1\" class=\"dataframe\">\n",
       "  <thead>\n",
       "    <tr style=\"text-align: right;\">\n",
       "      <th></th>\n",
       "      <th>Unnamed: 0</th>\n",
       "      <th>track_name</th>\n",
       "      <th>artist_name</th>\n",
       "      <th>artist_pop</th>\n",
       "      <th>album</th>\n",
       "      <th>track_pop</th>\n",
       "      <th>danceability</th>\n",
       "      <th>energy</th>\n",
       "      <th>loudness</th>\n",
       "      <th>mode</th>\n",
       "      <th>key</th>\n",
       "      <th>speechiness</th>\n",
       "      <th>acousticness</th>\n",
       "      <th>instrumentalness</th>\n",
       "      <th>liveness</th>\n",
       "      <th>valence</th>\n",
       "      <th>tempo</th>\n",
       "      <th>time_signature</th>\n",
       "      <th>duration_ms</th>\n",
       "      <th>track_pop_minus_artist_pop</th>\n",
       "    </tr>\n",
       "  </thead>\n",
       "  <tbody>\n",
       "    <tr>\n",
       "      <th>42</th>\n",
       "      <td>47</td>\n",
       "      <td>Mariposa</td>\n",
       "      <td>Peach Tree Rascals</td>\n",
       "      <td>0.0060</td>\n",
       "      <td>Mariposa</td>\n",
       "      <td>0.0074</td>\n",
       "      <td>0.676</td>\n",
       "      <td>0.525</td>\n",
       "      <td>-5.88</td>\n",
       "      <td>1</td>\n",
       "      <td>9</td>\n",
       "      <td>0.0280</td>\n",
       "      <td>0.6170</td>\n",
       "      <td>0.00000</td>\n",
       "      <td>0.356</td>\n",
       "      <td>0.421</td>\n",
       "      <td>112.011</td>\n",
       "      <td>4</td>\n",
       "      <td>210000</td>\n",
       "      <td>0.0014</td>\n",
       "    </tr>\n",
       "    <tr>\n",
       "      <th>231</th>\n",
       "      <td>252</td>\n",
       "      <td>Ponteme Despalda</td>\n",
       "      <td>Nfasis</td>\n",
       "      <td>0.0054</td>\n",
       "      <td>Ponteme Despalda</td>\n",
       "      <td>0.0006</td>\n",
       "      <td>0.780</td>\n",
       "      <td>0.766</td>\n",
       "      <td>-7.72</td>\n",
       "      <td>1</td>\n",
       "      <td>0</td>\n",
       "      <td>0.0700</td>\n",
       "      <td>0.0181</td>\n",
       "      <td>0.00172</td>\n",
       "      <td>0.342</td>\n",
       "      <td>0.441</td>\n",
       "      <td>96.011</td>\n",
       "      <td>4</td>\n",
       "      <td>77049</td>\n",
       "      <td>-0.0048</td>\n",
       "    </tr>\n",
       "    <tr>\n",
       "      <th>37</th>\n",
       "      <td>42</td>\n",
       "      <td>Psycho!</td>\n",
       "      <td>MASN</td>\n",
       "      <td>0.0060</td>\n",
       "      <td>How To Kill A Rockstar</td>\n",
       "      <td>0.0068</td>\n",
       "      <td>0.876</td>\n",
       "      <td>0.312</td>\n",
       "      <td>-10.17</td>\n",
       "      <td>1</td>\n",
       "      <td>7</td>\n",
       "      <td>0.0521</td>\n",
       "      <td>0.4430</td>\n",
       "      <td>0.00000</td>\n",
       "      <td>0.247</td>\n",
       "      <td>0.377</td>\n",
       "      <td>114.973</td>\n",
       "      <td>4</td>\n",
       "      <td>197217</td>\n",
       "      <td>0.0008</td>\n",
       "    </tr>\n",
       "  </tbody>\n",
       "</table>\n",
       "</div>"
      ],
      "text/plain": [
       "     Unnamed: 0        track_name         artist_name  artist_pop  \\\n",
       "42           47          Mariposa  Peach Tree Rascals      0.0060   \n",
       "231         252  Ponteme Despalda              Nfasis      0.0054   \n",
       "37           42           Psycho!                MASN      0.0060   \n",
       "\n",
       "                      album  track_pop  danceability  energy  loudness  mode  \\\n",
       "42                 Mariposa     0.0074         0.676   0.525     -5.88     1   \n",
       "231        Ponteme Despalda     0.0006         0.780   0.766     -7.72     1   \n",
       "37   How To Kill A Rockstar     0.0068         0.876   0.312    -10.17     1   \n",
       "\n",
       "     key  speechiness  acousticness  instrumentalness  liveness  valence  \\\n",
       "42     9       0.0280        0.6170           0.00000     0.356    0.421   \n",
       "231    0       0.0700        0.0181           0.00172     0.342    0.441   \n",
       "37     7       0.0521        0.4430           0.00000     0.247    0.377   \n",
       "\n",
       "       tempo  time_signature  duration_ms  track_pop_minus_artist_pop  \n",
       "42   112.011               4       210000                      0.0014  \n",
       "231   96.011               4        77049                     -0.0048  \n",
       "37   114.973               4       197217                      0.0008  "
      ]
     },
     "execution_count": 22,
     "metadata": {},
     "output_type": "execute_result"
    }
   ],
   "source": [
    "# sample without replacement\n",
    "sample = data.sample(n=3)\n",
    "sample"
   ]
  },
  {
   "cell_type": "code",
   "execution_count": 23,
   "id": "HpJ_kP9kCwl2",
   "metadata": {
    "colab": {
     "base_uri": "https://localhost:8080/",
     "height": 277
    },
    "id": "HpJ_kP9kCwl2",
    "outputId": "0f6d9820-f3eb-443f-d003-a05100e4bce3"
   },
   "outputs": [
    {
     "data": {
      "text/html": [
       "<div>\n",
       "<style scoped>\n",
       "    .dataframe tbody tr th:only-of-type {\n",
       "        vertical-align: middle;\n",
       "    }\n",
       "\n",
       "    .dataframe tbody tr th {\n",
       "        vertical-align: top;\n",
       "    }\n",
       "\n",
       "    .dataframe thead th {\n",
       "        text-align: right;\n",
       "    }\n",
       "</style>\n",
       "<table border=\"1\" class=\"dataframe\">\n",
       "  <thead>\n",
       "    <tr style=\"text-align: right;\">\n",
       "      <th></th>\n",
       "      <th>Unnamed: 0</th>\n",
       "      <th>track_name</th>\n",
       "      <th>artist_name</th>\n",
       "      <th>artist_pop</th>\n",
       "      <th>album</th>\n",
       "      <th>track_pop</th>\n",
       "      <th>danceability</th>\n",
       "      <th>energy</th>\n",
       "      <th>loudness</th>\n",
       "      <th>mode</th>\n",
       "      <th>key</th>\n",
       "      <th>speechiness</th>\n",
       "      <th>acousticness</th>\n",
       "      <th>instrumentalness</th>\n",
       "      <th>liveness</th>\n",
       "      <th>valence</th>\n",
       "      <th>tempo</th>\n",
       "      <th>time_signature</th>\n",
       "      <th>duration_ms</th>\n",
       "      <th>track_pop_minus_artist_pop</th>\n",
       "    </tr>\n",
       "  </thead>\n",
       "  <tbody>\n",
       "    <tr>\n",
       "      <th>12</th>\n",
       "      <td>13</td>\n",
       "      <td>Break My Heart</td>\n",
       "      <td>Dua Lipa</td>\n",
       "      <td>0.0088</td>\n",
       "      <td>Future Nostalgia</td>\n",
       "      <td>0.0078</td>\n",
       "      <td>0.730</td>\n",
       "      <td>0.729</td>\n",
       "      <td>-3.434</td>\n",
       "      <td>0</td>\n",
       "      <td>4</td>\n",
       "      <td>0.0884</td>\n",
       "      <td>0.1670</td>\n",
       "      <td>0.000001</td>\n",
       "      <td>0.3490</td>\n",
       "      <td>0.467</td>\n",
       "      <td>113.011</td>\n",
       "      <td>4</td>\n",
       "      <td>221820</td>\n",
       "      <td>-0.0010</td>\n",
       "    </tr>\n",
       "    <tr>\n",
       "      <th>38</th>\n",
       "      <td>43</td>\n",
       "      <td>Party Girl</td>\n",
       "      <td>StaySolidRocky</td>\n",
       "      <td>0.0059</td>\n",
       "      <td>Party Girl</td>\n",
       "      <td>0.0071</td>\n",
       "      <td>0.728</td>\n",
       "      <td>0.431</td>\n",
       "      <td>-9.966</td>\n",
       "      <td>0</td>\n",
       "      <td>6</td>\n",
       "      <td>0.0622</td>\n",
       "      <td>0.7490</td>\n",
       "      <td>0.000000</td>\n",
       "      <td>0.0996</td>\n",
       "      <td>0.629</td>\n",
       "      <td>130.022</td>\n",
       "      <td>4</td>\n",
       "      <td>147800</td>\n",
       "      <td>0.0012</td>\n",
       "    </tr>\n",
       "    <tr>\n",
       "      <th>116</th>\n",
       "      <td>130</td>\n",
       "      <td>TROLLZ (with Nicki Minaj)</td>\n",
       "      <td>6ix9ine</td>\n",
       "      <td>0.0071</td>\n",
       "      <td>TROLLZ (with Nicki Minaj)</td>\n",
       "      <td>0.0005</td>\n",
       "      <td>0.744</td>\n",
       "      <td>0.422</td>\n",
       "      <td>-8.946</td>\n",
       "      <td>1</td>\n",
       "      <td>1</td>\n",
       "      <td>0.2940</td>\n",
       "      <td>0.0319</td>\n",
       "      <td>0.000110</td>\n",
       "      <td>0.1100</td>\n",
       "      <td>0.493</td>\n",
       "      <td>180.006</td>\n",
       "      <td>4</td>\n",
       "      <td>202667</td>\n",
       "      <td>-0.0066</td>\n",
       "    </tr>\n",
       "  </tbody>\n",
       "</table>\n",
       "</div>"
      ],
      "text/plain": [
       "     Unnamed: 0                 track_name     artist_name  artist_pop  \\\n",
       "12           13             Break My Heart        Dua Lipa      0.0088   \n",
       "38           43                 Party Girl  StaySolidRocky      0.0059   \n",
       "116         130  TROLLZ (with Nicki Minaj)         6ix9ine      0.0071   \n",
       "\n",
       "                         album  track_pop  danceability  energy  loudness  \\\n",
       "12            Future Nostalgia     0.0078         0.730   0.729    -3.434   \n",
       "38                  Party Girl     0.0071         0.728   0.431    -9.966   \n",
       "116  TROLLZ (with Nicki Minaj)     0.0005         0.744   0.422    -8.946   \n",
       "\n",
       "     mode  key  speechiness  acousticness  instrumentalness  liveness  \\\n",
       "12      0    4       0.0884        0.1670          0.000001    0.3490   \n",
       "38      0    6       0.0622        0.7490          0.000000    0.0996   \n",
       "116     1    1       0.2940        0.0319          0.000110    0.1100   \n",
       "\n",
       "     valence    tempo  time_signature  duration_ms  track_pop_minus_artist_pop  \n",
       "12     0.467  113.011               4       221820                     -0.0010  \n",
       "38     0.629  130.022               4       147800                      0.0012  \n",
       "116    0.493  180.006               4       202667                     -0.0066  "
      ]
     },
     "execution_count": 23,
     "metadata": {},
     "output_type": "execute_result"
    }
   ],
   "source": [
    "# sample without replacement. Sample size = 1% of the data.\n",
    "sample = data.sample(frac=0.01, random_state=1)\n",
    "sample"
   ]
  },
  {
   "cell_type": "code",
   "execution_count": 24,
   "id": "2zWEPVz1DGTj",
   "metadata": {
    "colab": {
     "base_uri": "https://localhost:8080/",
     "height": 260
    },
    "id": "2zWEPVz1DGTj",
    "outputId": "2890d969-419c-460d-b50c-a29ab86ca556"
   },
   "outputs": [
    {
     "data": {
      "text/html": [
       "<div>\n",
       "<style scoped>\n",
       "    .dataframe tbody tr th:only-of-type {\n",
       "        vertical-align: middle;\n",
       "    }\n",
       "\n",
       "    .dataframe tbody tr th {\n",
       "        vertical-align: top;\n",
       "    }\n",
       "\n",
       "    .dataframe thead th {\n",
       "        text-align: right;\n",
       "    }\n",
       "</style>\n",
       "<table border=\"1\" class=\"dataframe\">\n",
       "  <thead>\n",
       "    <tr style=\"text-align: right;\">\n",
       "      <th></th>\n",
       "      <th>Unnamed: 0</th>\n",
       "      <th>track_name</th>\n",
       "      <th>artist_name</th>\n",
       "      <th>artist_pop</th>\n",
       "      <th>album</th>\n",
       "      <th>track_pop</th>\n",
       "      <th>danceability</th>\n",
       "      <th>energy</th>\n",
       "      <th>loudness</th>\n",
       "      <th>mode</th>\n",
       "      <th>key</th>\n",
       "      <th>speechiness</th>\n",
       "      <th>acousticness</th>\n",
       "      <th>instrumentalness</th>\n",
       "      <th>liveness</th>\n",
       "      <th>valence</th>\n",
       "      <th>tempo</th>\n",
       "      <th>time_signature</th>\n",
       "      <th>duration_ms</th>\n",
       "      <th>track_pop_minus_artist_pop</th>\n",
       "    </tr>\n",
       "  </thead>\n",
       "  <tbody>\n",
       "    <tr>\n",
       "      <th>37</th>\n",
       "      <td>42</td>\n",
       "      <td>Psycho!</td>\n",
       "      <td>MASN</td>\n",
       "      <td>0.0060</td>\n",
       "      <td>How To Kill A Rockstar</td>\n",
       "      <td>0.0068</td>\n",
       "      <td>0.876</td>\n",
       "      <td>0.312</td>\n",
       "      <td>-10.170</td>\n",
       "      <td>1</td>\n",
       "      <td>7</td>\n",
       "      <td>0.0521</td>\n",
       "      <td>0.443</td>\n",
       "      <td>0.0</td>\n",
       "      <td>0.247</td>\n",
       "      <td>0.377</td>\n",
       "      <td>114.973</td>\n",
       "      <td>4</td>\n",
       "      <td>197217</td>\n",
       "      <td>0.0008</td>\n",
       "    </tr>\n",
       "    <tr>\n",
       "      <th>235</th>\n",
       "      <td>257</td>\n",
       "      <td>Lemonade (feat. Gunna, Don Toliver &amp; NAV)</td>\n",
       "      <td>Internet Money</td>\n",
       "      <td>0.0072</td>\n",
       "      <td>B4 The Storm</td>\n",
       "      <td>0.0077</td>\n",
       "      <td>0.800</td>\n",
       "      <td>0.658</td>\n",
       "      <td>-6.142</td>\n",
       "      <td>0</td>\n",
       "      <td>1</td>\n",
       "      <td>0.0790</td>\n",
       "      <td>0.250</td>\n",
       "      <td>0.0</td>\n",
       "      <td>0.111</td>\n",
       "      <td>0.462</td>\n",
       "      <td>140.042</td>\n",
       "      <td>4</td>\n",
       "      <td>195429</td>\n",
       "      <td>0.0005</td>\n",
       "    </tr>\n",
       "    <tr>\n",
       "      <th>72</th>\n",
       "      <td>84</td>\n",
       "      <td>Candy</td>\n",
       "      <td>Doja Cat</td>\n",
       "      <td>0.0088</td>\n",
       "      <td>Amala</td>\n",
       "      <td>0.0071</td>\n",
       "      <td>0.689</td>\n",
       "      <td>0.516</td>\n",
       "      <td>-5.857</td>\n",
       "      <td>1</td>\n",
       "      <td>8</td>\n",
       "      <td>0.0444</td>\n",
       "      <td>0.513</td>\n",
       "      <td>0.0</td>\n",
       "      <td>0.163</td>\n",
       "      <td>0.209</td>\n",
       "      <td>124.876</td>\n",
       "      <td>4</td>\n",
       "      <td>190920</td>\n",
       "      <td>-0.0017</td>\n",
       "    </tr>\n",
       "  </tbody>\n",
       "</table>\n",
       "</div>"
      ],
      "text/plain": [
       "     Unnamed: 0                                 track_name     artist_name  \\\n",
       "37           42                                    Psycho!            MASN   \n",
       "235         257  Lemonade (feat. Gunna, Don Toliver & NAV)  Internet Money   \n",
       "72           84                                      Candy        Doja Cat   \n",
       "\n",
       "     artist_pop                   album  track_pop  danceability  energy  \\\n",
       "37       0.0060  How To Kill A Rockstar     0.0068         0.876   0.312   \n",
       "235      0.0072            B4 The Storm     0.0077         0.800   0.658   \n",
       "72       0.0088                   Amala     0.0071         0.689   0.516   \n",
       "\n",
       "     loudness  mode  key  speechiness  acousticness  instrumentalness  \\\n",
       "37    -10.170     1    7       0.0521         0.443               0.0   \n",
       "235    -6.142     0    1       0.0790         0.250               0.0   \n",
       "72     -5.857     1    8       0.0444         0.513               0.0   \n",
       "\n",
       "     liveness  valence    tempo  time_signature  duration_ms  \\\n",
       "37      0.247    0.377  114.973               4       197217   \n",
       "235     0.111    0.462  140.042               4       195429   \n",
       "72      0.163    0.209  124.876               4       190920   \n",
       "\n",
       "     track_pop_minus_artist_pop  \n",
       "37                       0.0008  \n",
       "235                      0.0005  \n",
       "72                      -0.0017  "
      ]
     },
     "execution_count": 24,
     "metadata": {},
     "output_type": "execute_result"
    }
   ],
   "source": [
    "#sample with replacement\n",
    "sample = data.sample(frac=0.01, replace=True, random_state=1)\n",
    "sample"
   ]
  },
  {
   "cell_type": "markdown",
   "id": "Zkr6vENBFNlG",
   "metadata": {
    "id": "Zkr6vENBFNlG"
   },
   "source": [
    "**Discretization**"
   ]
  },
  {
   "cell_type": "code",
   "execution_count": null,
   "id": "-gDZF0wYFRfE",
   "metadata": {
    "colab": {
     "base_uri": "https://localhost:8080/"
    },
    "id": "-gDZF0wYFRfE",
    "outputId": "aaf3c7e3-4ca3-4236-f0ff-9dfdaf195e45"
   },
   "outputs": [],
   "source": [
    "bins = pd.qcut(data['energy'],8)\n",
    "bins.value_counts(sort=False)\n"
   ]
  },
  {
   "cell_type": "markdown",
   "id": "G7xn-J_ukHg5",
   "metadata": {
    "id": "G7xn-J_ukHg5"
   },
   "source": [
    "Visualization "
   ]
  },
  {
   "cell_type": "code",
   "execution_count": null,
   "id": "S-IPDiFFkFiw",
   "metadata": {
    "colab": {
     "base_uri": "https://localhost:8080/",
     "height": 1000
    },
    "id": "S-IPDiFFkFiw",
    "outputId": "e252c77d-d266-47db-ecb5-1fb13232ba4c"
   },
   "outputs": [],
   "source": [
    "import matplotlib.pyplot as plt\n",
    "\n",
    "fig, axes = plt.subplots(5, 2, figsize=(14,22))\n",
    "index = 0\n",
    "for i in range(int(data.shape[1] / 2) - 1):\n",
    "    for j in range(i+1,int(data.shape[1] / 2) - 1):\n",
    "        if np.issubdtype(data[data.columns[i]].dtype, np.number) and np.issubdtype(data[data.columns[j]].dtype, np.number):\n",
    "          ax1 = int(index/2)\n",
    "          ax2 = index % 2\n",
    "          axes[ax1][ax2].scatter(data[data.columns[i]], data[data.columns[j]], color='blue')\n",
    "          axes[ax1][ax2].set_xlabel(data.columns[i])\n",
    "          axes[ax1][ax2].set_ylabel(data.columns[j])\n",
    "          index = index + 1\n",
    "    "
   ]
  },
  {
   "cell_type": "markdown",
   "id": "jS17yNNpVoE9",
   "metadata": {
    "id": "jS17yNNpVoE9"
   },
   "source": [
    "The scatter plots indicate a strong positive correlation between loudness and energy. Also, track_pop and artist_pop seem to be directly proportional. Other than those, the trends are not very clear for other plots. \n"
   ]
  },
  {
   "cell_type": "markdown",
   "id": "3e61857e",
   "metadata": {},
   "source": [
    "# ** The cluster and anomoly detetion starts here **"
   ]
  },
  {
   "cell_type": "code",
   "execution_count": null,
   "id": "6abbe7d7",
   "metadata": {},
   "outputs": [],
   "source": [
    "TicTokData = data\n",
    "\n",
    "    # adding id to data (nessesary as track_name is str type and droped)\n",
    "TicTokData[\"id\"] = 0;\n",
    "for i in range(TicTokData.shape[0]):\n",
    "    TicTokData.at[i,\"id\"] = i;\n",
    "\n",
    "    #geting rid of the string vars \n",
    "dataWithOutStrs = TicTokData.copy()\n",
    "    #I used https://www.statology.org/drop-column-pandas/\n",
    "dataWithOutStrs.drop([\"track_name\",\"artist_name\",\"album\" ], axis=1, inplace=True)\n",
    "\n",
    "\n",
    "    #binary data \n",
    "binaryData = dataWithOutStrs.copy()\n",
    "binaryData.drop([\"id\"], axis=1, inplace=True)\n",
    "    # to make small subset\n",
    "#binaryData = binaryData[[\"artist_pop\",\"track_pop\", \"key\" ]]\n",
    "for col in binaryData.columns:\n",
    "    for i in range(binaryData.shape[0]):\n",
    "        if(binaryData.at[i,col] <= binaryData[col].mean()):\n",
    "            binaryData.at[i,col] = 0\n",
    "        else:\n",
    "            binaryData.at[i,col] = 1\n",
    "        binaryData[col] =  binaryData[[col]].astype(int)"
   ]
  },
  {
   "cell_type": "code",
   "execution_count": null,
   "id": "70d0294e",
   "metadata": {},
   "outputs": [],
   "source": [
    "TicTokData.head()"
   ]
  },
  {
   "cell_type": "code",
   "execution_count": null,
   "id": "0eced573",
   "metadata": {},
   "outputs": [],
   "source": [
    "dataWithOutStrs.head()"
   ]
  },
  {
   "cell_type": "code",
   "execution_count": null,
   "id": "d1ceb869",
   "metadata": {},
   "outputs": [],
   "source": [
    "binaryData.head()"
   ]
  },
  {
   "cell_type": "code",
   "execution_count": null,
   "id": "92c15150",
   "metadata": {},
   "outputs": [],
   "source": [
    "# looks like the little gane in acuracy is made after 4 \n",
    "from sklearn import cluster\n",
    "import matplotlib.pyplot as plt\n",
    "%matplotlib inline\n",
    "\n",
    "numClusters = [1,2,3,4,5,6,7 ,8]\n",
    "SSE = []\n",
    "for k in numClusters:\n",
    "    k_means = cluster.KMeans(n_clusters=k)\n",
    "    k_means.fit(dataWithOutStrs)\n",
    "    SSE.append(k_means.inertia_)\n",
    "\n",
    "plt.plot(numClusters, SSE)\n",
    "plt.xlabel('Number of Clusters')\n",
    "plt.ylabel('SSE')"
   ]
  },
  {
   "cell_type": "code",
   "execution_count": null,
   "id": "412a4199",
   "metadata": {},
   "outputs": [],
   "source": [
    "from sklearn import cluster\n",
    "\n",
    "k_means = cluster.KMeans(n_clusters=4, max_iter=50, random_state=1)\n",
    "k_means.fit(dataWithOutStrs)\n",
    "labels = k_means.labels_\n",
    "dataWithClusters = pd.DataFrame(labels, index=TicTokData.id, columns=[\"Cluster ID\"])\n",
    "\n",
    "dataWithClusters"
   ]
  },
  {
   "cell_type": "code",
   "execution_count": null,
   "id": "b0c5b856",
   "metadata": {},
   "outputs": [],
   "source": [
    "# need to binerize data \n",
    "\n",
    "from scipy.cluster import hierarchy\n",
    "import matplotlib.pyplot as plt\n",
    "%matplotlib inline\n",
    "\n",
    "\n",
    "k_means = cluster.KMeans(n_clusters=4, max_iter=50, random_state=1)\n",
    "k_means.fit(binaryData) \n",
    "labels = k_means.labels_\n",
    "cols = binaryData.columns.tolist()\n",
    "cols.append('Cluster ID')\n",
    "\n",
    "print(pd.DataFrame(labels, columns=['Cluster ID']))\n",
    "\n",
    "\n",
    "names = TicTokData['artist_name']\n",
    "\n",
    "X=binaryData\n",
    "\n",
    "Z = hierarchy.linkage(X.values, 'single')\n",
    "dn = hierarchy.dendrogram(Z,labels=names.tolist(),orientation='right')\n"
   ]
  },
  {
   "cell_type": "code",
   "execution_count": null,
   "id": "1f2d0ee3",
   "metadata": {},
   "outputs": [],
   "source": [
    "TicTokData.plot.scatter(x='danceability',y='energy')"
   ]
  },
  {
   "cell_type": "code",
   "execution_count": null,
   "id": "238483a1",
   "metadata": {},
   "outputs": [],
   "source": [
    "# with 2 dementions there is not meningule distincts clusters that I could find\n",
    "# the cluster id is -1 and I dont know why \n",
    "\n",
    "from sklearn.cluster import DBSCAN\n",
    "import numpy as np\n",
    "\n",
    "    # make a DBSCAN and fit the data \n",
    "db = DBSCAN(eps=500, min_samples=4).fit(dataWithOutStrs)\n",
    "    # idk \n",
    "core_samples_mask = np.zeros_like(db.labels_, dtype=bool)\n",
    "    #idk \n",
    "core_samples_mask[db.core_sample_indices_] = True\n",
    "    # make new df with the DBSCAN's cluster id\n",
    "labels = pd.DataFrame(db.labels_,columns=['Cluster ID'])\n",
    "    # add the new df to the old df so that it now has the cluster id \n",
    "result = pd.concat((dataWithOutStrs,labels), axis=1)\n",
    "    # plot it \n",
    "result.plot.scatter(x='acousticness',y='loudness',c='Cluster ID', colormap='jet')\n",
    "result"
   ]
  },
  {
   "cell_type": "code",
   "execution_count": null,
   "id": "096289d7",
   "metadata": {},
   "outputs": [],
   "source": [
    "from sklearn.cluster import DBSCAN\n",
    "import numpy as np\n",
    "\n",
    "db = DBSCAN(eps=500, min_samples=5).fit(dataWithOutStrs)\n",
    "core_samples_mask = np.zeros_like(db.labels_, dtype=bool)\n",
    "core_samples_mask[db.core_sample_indices_] = True\n",
    "labels = pd.DataFrame(db.labels_,columns=['Cluster ID'])\n",
    "result = pd.concat((dataWithOutStrs,labels), axis=1)\n",
    "result"
   ]
  },
  {
   "cell_type": "code",
   "execution_count": null,
   "id": "f514940e",
   "metadata": {},
   "outputs": [],
   "source": [
    "from sklearn.neighbors import NearestNeighbors\n",
    "from scipy.spatial import distance\n",
    "\n",
    "knn = 6\n",
    "nbrs = NearestNeighbors(n_neighbors=knn, metric=distance.euclidean).fit(dataWithOutStrs.values)\n",
    "distances, indices = nbrs.kneighbors(dataWithOutStrs.values)\n",
    "\n",
    "anomaly_score = distances[:,knn-1]\n",
    "\n",
    "    # just graphing a few dementions \n",
    "fig = plt.figure(figsize=(10,6))\n",
    "ax = fig.add_subplot(111, projection='3d')\n",
    "p = ax.scatter(TicTokData[\"danceability\"],TicTokData[\"loudness\"],TicTokData[\"track_pop_minus_artist_pop\"],c=anomaly_score,cmap='jet')\n",
    "ax.set_xlabel(\"danceability\")\n",
    "ax.set_ylabel(\"loudness\")\n",
    "ax.set_zlabel(\"track_pop_minus_artist_pop\")\n",
    "fig.colorbar(p)\n",
    "plt.show()\n"
   ]
  },
  {
   "cell_type": "code",
   "execution_count": null,
   "id": "30efbc4c",
   "metadata": {},
   "outputs": [],
   "source": []
  }
 ],
 "metadata": {
  "colab": {
   "collapsed_sections": [],
   "provenance": []
  },
  "kernelspec": {
   "display_name": "Python 3 (ipykernel)",
   "language": "python",
   "name": "python3"
  },
  "language_info": {
   "codemirror_mode": {
    "name": "ipython",
    "version": 3
   },
   "file_extension": ".py",
   "mimetype": "text/x-python",
   "name": "python",
   "nbconvert_exporter": "python",
   "pygments_lexer": "ipython3",
   "version": "3.8.9"
  }
 },
 "nbformat": 4,
 "nbformat_minor": 5
}
